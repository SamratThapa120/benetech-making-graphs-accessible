{
 "cells": [
  {
   "cell_type": "code",
   "execution_count": 2,
   "id": "4c33b650",
   "metadata": {},
   "outputs": [
    {
     "name": "stdout",
     "output_type": "stream",
     "text": [
      "Collecting opencv-python-headless==4.5.5.64\n",
      "  Downloading opencv_python_headless-4.5.5.64-cp36-abi3-manylinux_2_17_x86_64.manylinux2014_x86_64.whl (47.8 MB)\n",
      "\u001b[2K     \u001b[90m━━━━━━━━━━━━━━━━━━━━━━━━━━━━━━━━━━━━━━━━\u001b[0m \u001b[32m47.8/47.8 MB\u001b[0m \u001b[31m52.4 MB/s\u001b[0m eta \u001b[36m0:00:00\u001b[0m00:01\u001b[0m00:01\u001b[0m\n",
      "\u001b[?25hRequirement already satisfied: numpy>=1.14.5 in /opt/conda/lib/python3.8/site-packages (from opencv-python-headless==4.5.5.64) (1.21.1)\n",
      "Installing collected packages: opencv-python-headless\n",
      "Successfully installed opencv-python-headless-4.5.5.64\n",
      "\u001b[33mWARNING: Running pip as the 'root' user can result in broken permissions and conflicting behaviour with the system package manager. It is recommended to use a virtual environment instead: https://pip.pypa.io/warnings/venv\u001b[0m\u001b[33m\n",
      "\u001b[0m"
     ]
    }
   ],
   "source": [
    "!pip3 install opencv-python-headless==4.5.5.64"
   ]
  },
  {
   "cell_type": "code",
   "execution_count": 1,
   "id": "a6846c3e",
   "metadata": {},
   "outputs": [],
   "source": [
    "import json\n",
    "import os\n",
    "from tqdm import tqdm\n",
    "import shutil"
   ]
  },
  {
   "cell_type": "code",
   "execution_count": 3,
   "id": "b15c0a39",
   "metadata": {},
   "outputs": [],
   "source": [
    "json_files = json.load(open(\"./dataset/data.json\"))"
   ]
  },
  {
   "cell_type": "code",
   "execution_count": 4,
   "id": "0ce7a3da",
   "metadata": {},
   "outputs": [],
   "source": [
    "generated = [k for k,v in json_files.items() if v[\"source\"]==\"generated\"]\n",
    "extracted = [k for k,v in json_files.items() if v[\"source\"]==\"extracted\"]"
   ]
  },
  {
   "cell_type": "code",
   "execution_count": 6,
   "id": "eca19772",
   "metadata": {},
   "outputs": [],
   "source": [
    "from sklearn.model_selection import StratifiedKFold\n",
    "skf = StratifiedKFold(n_splits=5)\n",
    "labels = [json_files[k][\"chart-type\"] for k in extracted]\n",
    "# For each split, save the file names in the corresponding dictionary\n",
    "for i, (train_index, test_index) in enumerate(skf.split(extracted, labels)):\n",
    "    train_json = {extracted[k]:json_files[extracted[k]] for k in train_index}\n",
    "    valid_json = {extracted[k]:json_files[extracted[k]] for k in test_index}  "
   ]
  },
  {
   "cell_type": "code",
   "execution_count": 7,
   "id": "a532d75e",
   "metadata": {},
   "outputs": [],
   "source": [
    "for k in generated:\n",
    "    train_json[k] = json_files[k]"
   ]
  },
  {
   "cell_type": "code",
   "execution_count": 8,
   "id": "799f51e0",
   "metadata": {},
   "outputs": [
    {
     "data": {
      "text/plain": [
       "(60355, 223)"
      ]
     },
     "execution_count": 8,
     "metadata": {},
     "output_type": "execute_result"
    }
   ],
   "source": [
    "len(train_json),len(valid_json)"
   ]
  },
  {
   "cell_type": "code",
   "execution_count": 9,
   "id": "573e3dc0",
   "metadata": {},
   "outputs": [],
   "source": [
    "os.makedirs(\"./dataset/keypoint/images/train\",exist_ok=True)\n",
    "os.makedirs(\"./dataset/keypoint/images/valid\",exist_ok=True)\n",
    "os.makedirs(\"./dataset/keypoint/labels/train\",exist_ok=True)\n",
    "os.makedirs(\"./dataset/keypoint/labels/valid\",exist_ok=True)"
   ]
  },
  {
   "cell_type": "code",
   "execution_count": 11,
   "id": "e28c8875",
   "metadata": {},
   "outputs": [
    {
     "name": "stderr",
     "output_type": "stream",
     "text": [
      "100%|█████████████████████████████████████████████████████████████████████████████████████████████████████████████████████| 60355/60355 [00:03<00:00, 17149.93it/s]\n"
     ]
    }
   ],
   "source": [
    "for name in tqdm(train_json.keys()):\n",
    "    try:\n",
    "        shutil.move(f\"./dataset/train/images/{name}.jpg\",\"./dataset/keypoint/images/train\")\n",
    "        shutil.move(f\"./keypoint_dset/{name}.txt\",\"./dataset/keypoint/labels/train\")\n",
    "    except:\n",
    "        pass"
   ]
  },
  {
   "cell_type": "code",
   "execution_count": 12,
   "id": "d85e83c9",
   "metadata": {},
   "outputs": [
    {
     "name": "stderr",
     "output_type": "stream",
     "text": [
      "100%|██████████████████████████████████████████████████████████████████████████████████████████████████████████████████████████| 223/223 [00:00<00:00, 2130.29it/s]\n"
     ]
    }
   ],
   "source": [
    "for name in tqdm(valid_json.keys()):\n",
    "    try:\n",
    "        shutil.move(f\"./dataset/train/images/{name}.jpg\",\"./dataset/keypoint/images/valid\")\n",
    "        shutil.move(f\"./keypoint_dset/{name}.txt\",\"./dataset/keypoint/labels/valid\")\n",
    "    except:\n",
    "        pass"
   ]
  }
 ],
 "metadata": {
  "kernelspec": {
   "display_name": "Python 3 (ipykernel)",
   "language": "python",
   "name": "python3"
  },
  "language_info": {
   "codemirror_mode": {
    "name": "ipython",
    "version": 3
   },
   "file_extension": ".py",
   "mimetype": "text/x-python",
   "name": "python",
   "nbconvert_exporter": "python",
   "pygments_lexer": "ipython3",
   "version": "3.8.10"
  }
 },
 "nbformat": 4,
 "nbformat_minor": 5
}
