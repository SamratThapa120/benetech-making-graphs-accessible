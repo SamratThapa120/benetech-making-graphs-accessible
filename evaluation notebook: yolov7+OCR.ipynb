{
 "cells": [
  {
   "cell_type": "code",
   "execution_count": 1,
   "metadata": {
    "_cell_guid": "b1076dfc-b9ad-4769-8c92-a6c4dae69d19",
    "_uuid": "8f2839f25d086af736a60e9eeb907d3b93b6e0e5"
   },
   "outputs": [],
   "source": [
    "import random\n",
    "import cv2\n",
    "import glob\n",
    "import json\n",
    "import os\n",
    "from tqdm import tqdm\n",
    "import time\n",
    "from PIL import Image\n",
    "import matplotlib.pyplot as plt\n",
    "import matplotlib.patches as patches\n",
    "import cv2\n",
    "import numpy as np\n",
    "import sys\n",
    "# sys.path.append(\"/kaggle/input/ultralytics-package-for-yolo-v8\")"
   ]
  },
  {
   "cell_type": "code",
   "execution_count": 2,
   "metadata": {},
   "outputs": [
    {
     "name": "stdout",
     "output_type": "stream",
     "text": [
      "Fusing layers... \n",
      "IDetect.fuse\n"
     ]
    },
    {
     "data": {
      "text/plain": [
       "1"
      ]
     },
     "execution_count": 2,
     "metadata": {},
     "output_type": "execute_result"
    }
   ],
   "source": [
    "sys.path.append(\"./yolov7\")\n",
    "from models.experimental import attempt_load\n",
    "from utils.datasets import LoadStreams, LoadImages\n",
    "from utils.general import check_file, check_img_size, check_requirements, \\\n",
    "    box_iou, non_max_suppression, scale_coords, xyxy2xywh, xywh2xyxy, set_logging, increment_path, colorstr\n",
    "\n",
    "device=\"cuda:7\"\n",
    "half = device != 'cpu'  # half precision only supported on CUDA\n",
    "yolo_model = attempt_load(\"yolov7_best.pt\", map_location=device)  # load FP32 model\n",
    "yolo_model.to(device)\n",
    "stride = int(yolo_model.stride.max())  # model stride\n",
    "imgsz = check_img_size(640, s=stride)  # check img_size\n",
    "yolo_model.eval()\n",
    "1"
   ]
  },
  {
   "cell_type": "code",
   "execution_count": 3,
   "metadata": {},
   "outputs": [],
   "source": [
    "class Configs:\n",
    "    conf_thres=0.3\n",
    "    iou_thres=0.65\n",
    "    classes=[0,1,2,3,4,5,6,7,8]\n",
    "    agnostic_nms=False\n",
    "    augment=False\n",
    "optyolo = Configs"
   ]
  },
  {
   "cell_type": "code",
   "execution_count": 4,
   "metadata": {},
   "outputs": [],
   "source": [
    "import torch\n",
    "def detect_yolo(imgpth):\n",
    "    dataset = LoadImages(imgpth, img_size=imgsz, stride=stride)\n",
    "    old_img_w = old_img_h = imgsz\n",
    "    old_img_b = 1\n",
    "    for path, img, im0, vid_cap in dataset:\n",
    "        img = torch.from_numpy(img)\n",
    "        img = img.float()  # uint8 to fp16/32\n",
    "        img /= 255.0  # 0 - 255 to 0.0 - 1.0\n",
    "        if img.ndimension() == 3:\n",
    "            img = img.unsqueeze(0)\n",
    "        with torch.no_grad():   # Calculating gradients would cause a GPU memory leak\n",
    "            pred = yolo_model(img.to(\"cuda:7\"), augment=optyolo.augment)[0]\n",
    "        pred = non_max_suppression(pred, optyolo.conf_thres, optyolo.iou_thres, classes=optyolo.classes, agnostic=optyolo.agnostic_nms)\n",
    "        for i, det in enumerate(pred):  # detections per image\n",
    "            if len(det):\n",
    "            # Rescale boxes from img_size to im0 size\n",
    "                det[:, :4] = scale_coords(img.shape[2:], det[:, :4], im0.shape).round()\n",
    "                det[:,2] = det[:,2] - det[:,0]\n",
    "                det[:,3] = det[:,3] - det[:,1]\n",
    "                det[:,0] = det[:,0] + det[:,2]/2\n",
    "                det[:,1] = det[:,1] + det[:,3]/2\n",
    "\n",
    "        return pred[0].detach().cpu()"
   ]
  },
  {
   "cell_type": "code",
   "execution_count": 5,
   "metadata": {},
   "outputs": [],
   "source": [
    "NAMES = [\"x-label\",\"y-label\",\"diagram-tick\",'line','dot','vertical_bar','scatter','horizontal_bar']\n",
    "def divide_by_class(tensor,classes,confid):\n",
    "    bbox_by_class = {i:[] for i in range(len(NAMES))}\n",
    "    for i,c,confid in zip(range(tensor.shape[0]),classes,confid):\n",
    "        bbox_by_class[int(c.item())].append(tensor[i].tolist()+[confid.item()])\n",
    "    return bbox_by_class"
   ]
  },
  {
   "cell_type": "code",
   "execution_count": 6,
   "metadata": {},
   "outputs": [],
   "source": [
    "all_imgs = [os.path.join(\"../datasets/dataset/keypoint/images/valid\",x.strip()) for x in open(\"../valid_names.txt\").readlines()]"
   ]
  },
  {
   "cell_type": "code",
   "execution_count": 7,
   "metadata": {},
   "outputs": [],
   "source": [
    "import sys\n",
    "sys.path.append(\"../OCR/EasyOCR/trainer\")\n",
    "sys.path.append(\"../OCR/EasyOCR\")"
   ]
  },
  {
   "cell_type": "code",
   "execution_count": 8,
   "metadata": {},
   "outputs": [],
   "source": [
    "from model import Model\n",
    "from trainer.utils import AttrDict\n",
    "import yaml\n",
    "from trainer.utils import CTCLabelConverter, AttnLabelConverter, Averager"
   ]
  },
  {
   "cell_type": "code",
   "execution_count": 9,
   "metadata": {},
   "outputs": [],
   "source": [
    "def get_config(file_path):\n",
    "    with open(file_path, 'r', encoding=\"utf8\") as stream:\n",
    "        opt = yaml.safe_load(stream)\n",
    "    opt = AttrDict(opt)\n",
    "    if opt.lang_char == 'None':\n",
    "        characters = ''\n",
    "        for data in opt['select_data'].split('-'):\n",
    "            csv_path = os.path.join(opt['train_data'], data, 'labels.csv')\n",
    "            df = pd.read_csv(csv_path, sep='^([^,]+),', engine='python', usecols=['filename', 'words'], keep_default_na=False)\n",
    "            all_char = ''.join(df['words'])\n",
    "            characters += ''.join(set(all_char))\n",
    "        characters = sorted(set(characters))\n",
    "        opt.character= ''.join(characters)\n",
    "    else:\n",
    "        opt.character = opt.number + opt.symbol + opt.lang_char\n",
    "    os.makedirs(f'./saved_models/{opt.experiment_name}', exist_ok=True)\n",
    "    return opt"
   ]
  },
  {
   "cell_type": "code",
   "execution_count": 10,
   "metadata": {},
   "outputs": [],
   "source": [
    "opt = get_config(\"../OCR/config_files/en_filtered_config.yaml\")\n",
    "device = torch.device('cpu')\n",
    "if 'CTC' in opt.Prediction:\n",
    "    converter = CTCLabelConverter(opt.character)\n",
    "else:\n",
    "    converter = AttnLabelConverter(opt.character)\n",
    "opt.num_class = len(converter.character)"
   ]
  },
  {
   "cell_type": "code",
   "execution_count": 11,
   "metadata": {},
   "outputs": [],
   "source": [
    "def get_id(texts,i):\n",
    "    for k in texts:\n",
    "        if i==k[\"id\"]:\n",
    "            return k\n",
    "def get_bounding_box(points):\n",
    "    xs = [p[0] for p in points]\n",
    "    ys = [p[1] for p in points]\n",
    "    x_min = min(xs)\n",
    "    y_min = min(ys)\n",
    "    x_max = max(xs)\n",
    "    y_max = max(ys)\n",
    "    return [x_min, y_min, x_max - x_min, y_max - y_min]\n",
    "def create_square(point, k=5):\n",
    "    if type(point)==dict:\n",
    "        x,y = point[\"x\"],point[\"y\"]\n",
    "    else:\n",
    "        x,y =point\n",
    "    half_k = k / 2.0\n",
    "\n",
    "    # Define the corners of the square\n",
    "    corners = [x - half_k, y - half_k,x + half_k, y - half_k,x + half_k, y + half_k,x - half_k, y + half_k]\n",
    "    return corners\n",
    "def polygon_to_bbox(polygon):\n",
    "    # Create list of x and y coordinates\n",
    "    x_coords = polygon[0::2]\n",
    "    y_coords = polygon[1::2]\n",
    "\n",
    "    # Compute minimum and maximum coordinates\n",
    "    x_min, x_max = min(x_coords), max(x_coords)\n",
    "    y_min, y_max = min(y_coords), max(y_coords)\n",
    "\n",
    "    # Calculate the center of the bounding box\n",
    "    x_center = (x_min + x_max) / 2.0\n",
    "    y_center = (y_min + y_max) / 2.0\n",
    "\n",
    "    # Calculate the width and height of the bounding box\n",
    "    width = x_max - x_min\n",
    "    height = y_max - y_min\n",
    "\n",
    "    # Return the bounding box in the format [x, y, width, height]\n",
    "    return [x_center, y_center, width, height]\n",
    "def get_line_bboxes(v,ctype=None):\n",
    "    texts = v[\"text\"]\n",
    "    polygon_info = []\n",
    "    point_info = []\n",
    "    for tinf in v[\"axes\"][\"x-axis\"][\"ticks\"]:\n",
    "        bbox_label = get_id(texts,tinf[\"id\"])\n",
    "        polygon_info.append(bbox_label)\n",
    "\n",
    "    for tinf in v[\"axes\"][\"y-axis\"][\"ticks\"]:\n",
    "        bbox_label = get_id(texts,tinf[\"id\"])\n",
    "        polygon_info.append(bbox_label)\n",
    "    return polygon_info\n"
   ]
  },
  {
   "cell_type": "code",
   "execution_count": 43,
   "metadata": {},
   "outputs": [
    {
     "name": "stdout",
     "output_type": "stream",
     "text": [
      "No Transformation module specified\n"
     ]
    },
    {
     "data": {
      "text/plain": [
       "1"
      ]
     },
     "execution_count": 43,
     "metadata": {},
     "output_type": "execute_result"
    }
   ],
   "source": [
    "ocr_model = Model(opt)\n",
    "statedict = torch.load(\"../OCR/saved_models_best64/best_accuracy.pth\",map_location=device)\n",
    "newstatedict = {}\n",
    "for k in statedict:\n",
    "    newk = k[7:]\n",
    "    newstatedict[newk] =statedict[k]\n",
    "ocr_model.load_state_dict(newstatedict)\n",
    "ocr_model.eval()\n",
    "1"
   ]
  },
  {
   "cell_type": "code",
   "execution_count": 44,
   "metadata": {},
   "outputs": [],
   "source": [
    "from torchvision import transforms\n",
    "class NormalizePAD(object):\n",
    "\n",
    "    def __init__(self, max_size, PAD_type='right'):\n",
    "        self.toTensor = transforms.ToTensor()\n",
    "        self.max_size = max_size\n",
    "        self.max_width_half = math.floor(max_size[2] / 2)\n",
    "        self.PAD_type = PAD_type\n",
    "\n",
    "    def __call__(self, img):\n",
    "        img = self.toTensor(img)\n",
    "        img.sub_(0.5).div_(0.5)\n",
    "        c, h, w = img.size()\n",
    "        Pad_img = torch.FloatTensor(*self.max_size).fill_(0)\n",
    "        Pad_img[:, :, :w] = img  # right pad\n",
    "        if self.max_size[2] != w:  # add border Pad\n",
    "            Pad_img[:, :, w:] = img[:, :, w - 1].unsqueeze(2).expand(c, h, self.max_size[2] - w)\n",
    "\n",
    "        return Pad_img"
   ]
  },
  {
   "cell_type": "code",
   "execution_count": 45,
   "metadata": {},
   "outputs": [],
   "source": [
    "import math\n",
    "class AlignCollate(object):\n",
    "\n",
    "    def __init__(self, imgH=64, imgW=64, keep_ratio_with_pad=False, contrast_adjust = 0.):\n",
    "        self.imgH = imgH\n",
    "        self.imgW = imgW\n",
    "        self.keep_ratio_with_pad = keep_ratio_with_pad\n",
    "        self.contrast_adjust = contrast_adjust\n",
    "\n",
    "    def __call__(self, images):\n",
    "\n",
    "        if self.keep_ratio_with_pad:  # same concept with 'Rosetta' paper\n",
    "            resized_max_w = self.imgW\n",
    "            input_channel = 3 if images[0].mode == 'RGB' else 1\n",
    "            transform = NormalizePAD((input_channel, self.imgH, resized_max_w))\n",
    "\n",
    "            resized_images = []\n",
    "            for image in images:\n",
    "                w, h = image.size\n",
    "\n",
    "                #### augmentation here - change contrast\n",
    "                if self.contrast_adjust > 0:\n",
    "                    image = np.array(image.convert(\"L\"))\n",
    "                    image = adjust_contrast_grey(image, target = self.contrast_adjust)\n",
    "                    image = Image.fromarray(image, 'L')\n",
    "\n",
    "                ratio = w / float(h)\n",
    "                if math.ceil(self.imgH * ratio) > self.imgW:\n",
    "                    resized_w = self.imgW\n",
    "                else:\n",
    "                    resized_w = math.ceil(self.imgH * ratio)\n",
    "\n",
    "                resized_image = image.resize((resized_w, self.imgH), Image.BICUBIC)\n",
    "                resized_images.append(transform(resized_image))\n",
    "                # resized_image.save('./image_test/%d_test.jpg' % w)\n",
    "\n",
    "            image_tensors = torch.cat([t.unsqueeze(0) for t in resized_images], 0)\n",
    "\n",
    "        else:\n",
    "            transform = ResizeNormalize((self.imgW, self.imgH))\n",
    "            image_tensors = [transform(image) for image in images]\n",
    "            image_tensors = torch.cat([t.unsqueeze(0) for t in image_tensors], 0)\n",
    "\n",
    "        return image_tensors\n",
    "    \n",
    "AlignCollate_valid = AlignCollate(imgH=opt.imgH, imgW=opt.imgW, keep_ratio_with_pad=opt.PAD, contrast_adjust=opt.contrast_adjust)"
   ]
  },
  {
   "cell_type": "code",
   "execution_count": 46,
   "metadata": {},
   "outputs": [],
   "source": [
    "def get_prediction(image):\n",
    "    timg = AlignCollate_valid([image.convert(\"L\")])\n",
    "    preds = ocr_model(timg,\"\")\n",
    "    preds_size = torch.IntTensor([preds.size(1)] * 1)\n",
    "    _, preds_index = preds.max(2)\n",
    "    preds_index = preds_index.view(-1)\n",
    "    preds_str = converter.decode_greedy(preds_index.data, preds_size.data)\n",
    "    return preds_str[0]"
   ]
  },
  {
   "cell_type": "code",
   "execution_count": 47,
   "metadata": {},
   "outputs": [],
   "source": [
    "\n",
    "def show_bboxes_get_strings(image_path, bboxes,show=True):\n",
    "    img = cv2.cvtColor(cv2.imread(image_path), cv2.COLOR_BGR2RGB)\n",
    "    if show:\n",
    "        # Create figure and axes\n",
    "        fig, ax = plt.subplots(1, figsize=(12, 9))\n",
    "\n",
    "        # Display the image\n",
    "        ax.imshow(img)\n",
    "    strings = []\n",
    "    # Loop over tensor and add boxes\n",
    "    for box in bboxes:\n",
    "        # Bounding box data\n",
    "        x, y, w, h= box\n",
    "        x = x - w / 2\n",
    "        y = y - h / 2\n",
    "        if show:\n",
    "            # Create a Rectangle patch\n",
    "            rect = patches.Rectangle((x, y), w, h, linewidth=1, edgecolor=\"r\", facecolor='none')\n",
    "            # Add the patch to the Axes\n",
    "            ax.add_patch(rect)\n",
    "        cropbox = img[int(y):int(y+h),int(x):int(x+w)]\n",
    "        result = reader.recognize(cropbox)\n",
    "        strings.append(result)\n",
    "    if show:\n",
    "        plt.show()\n",
    "    return [x[0][1] for x in strings]"
   ]
  },
  {
   "cell_type": "code",
   "execution_count": 48,
   "metadata": {},
   "outputs": [],
   "source": [
    "def get_line_bboxes(v,ctype=None):\n",
    "    texts = v[\"text\"]\n",
    "    polygon_info = []\n",
    "    point_info = []\n",
    "    for tinf in v[\"axes\"][\"x-axis\"][\"ticks\"]:\n",
    "        bbox_label = get_id(texts,tinf[\"id\"])\n",
    "        polygon_info.append(bbox_label)\n",
    "\n",
    "    for tinf in v[\"axes\"][\"y-axis\"][\"ticks\"]:\n",
    "        bbox_label = get_id(texts,tinf[\"id\"])\n",
    "        polygon_info.append(bbox_label)\n",
    "    return polygon_info\n"
   ]
  },
  {
   "cell_type": "code",
   "execution_count": 49,
   "metadata": {},
   "outputs": [],
   "source": [
    "def get_bounding_boxes(bounding_boxes,inter_limit=0.5):\n",
    "    pruned_boxes = []\n",
    "    to_remove = set()\n",
    "\n",
    "    for i, big_box in enumerate(bounding_boxes):\n",
    "        x1, y1, w1, h1,_ = big_box\n",
    "        area1 = w1 * h1\n",
    "        for j, small_box in enumerate(bounding_boxes):\n",
    "            if i != j and j not in to_remove:\n",
    "                x2, y2, w2, h2,_ = small_box\n",
    "                area2 = w2 * h2\n",
    "\n",
    "                # calculate the intersection rectangle\n",
    "                x_int = max(x1 - w1/2, x2 - w2/2)\n",
    "                y_int = max(y1 - h1/2, y2 - h2/2)\n",
    "                w_int = min(x1 + w1/2, x2 + w2/2) - x_int\n",
    "                h_int = min(y1 + h1/2, y2 + h2/2) - y_int\n",
    "\n",
    "                if w_int < 0 or h_int < 0:\n",
    "                    # no overlap\n",
    "                    continue\n",
    "\n",
    "                intersection = w_int * h_int\n",
    "                iou = intersection / area2  # change here to check how much of the smaller box is in the larger one\n",
    "\n",
    "                # if smaller box is contained in larger box 80% or more\n",
    "                if iou >= inter_limit:\n",
    "                    to_remove.add(j)\n",
    "\n",
    "    for k, box in enumerate(bounding_boxes):\n",
    "        if k not in to_remove:\n",
    "            pruned_boxes.append(box)\n",
    "\n",
    "    return pruned_boxes\n"
   ]
  },
  {
   "cell_type": "code",
   "execution_count": 50,
   "metadata": {},
   "outputs": [],
   "source": [
    "def iou(box1, box2):\n",
    "    \"\"\"Calculate Intersection Over Union (IOU) of two bounding boxes.\"\"\"\n",
    "    x1, y1, w1, h1, _ = box1\n",
    "    x2, y2, w2, h2, _ = box2\n",
    "    \n",
    "    xi1 = max(x1, x2)\n",
    "    yi1 = max(y1, y2)\n",
    "    xi2 = min(x1+w1, x2+w2)\n",
    "    yi2 = min(y1+h1, y2+h2)\n",
    "    inter_area = max(xi2 - xi1, 0) * max(yi2 - yi1, 0)\n",
    "\n",
    "    box1_area = w1 * h1\n",
    "    box2_area = w2 * h2\n",
    "    union_area = box1_area + box2_area - inter_area\n",
    "    \n",
    "    iou = inter_area / union_area\n",
    "    return iou"
   ]
  },
  {
   "cell_type": "code",
   "execution_count": 51,
   "metadata": {},
   "outputs": [],
   "source": [
    "import warnings\n",
    "warnings.filterwarnings(\"ignore\")"
   ]
  },
  {
   "cell_type": "code",
   "execution_count": 52,
   "metadata": {},
   "outputs": [
    {
     "name": "stderr",
     "output_type": "stream",
     "text": [
      "100%|██████████████████████████████████████████████████████████████████████████████████████████████████████████████████████████| 223/223 [00:00<00:00, 3543.31it/s]\n"
     ]
    },
    {
     "data": {
      "text/plain": [
       "(223, 0)"
      ]
     },
     "execution_count": 52,
     "metadata": {},
     "output_type": "execute_result"
    }
   ],
   "source": [
    "extracted_images = []\n",
    "generated_images = []\n",
    "for pth in tqdm(all_imgs):\n",
    "    jsonname = os.path.split(pth)[-1].replace(\".jpg\",\".json\")\n",
    "    jsonname = os.path.join(\"../datasets/dataset/train/annotations\",jsonname)\n",
    "    annot = json.load(open(jsonname))\n",
    "    if annot[\"source\"]==\"generated\":\n",
    "        generated_images.append(pth)\n",
    "    else:\n",
    "        extracted_images.append(pth)\n",
    "len(extracted_images),len(generated_images)"
   ]
  },
  {
   "cell_type": "code",
   "execution_count": 53,
   "metadata": {},
   "outputs": [],
   "source": [
    "def plot_boxes(image_path, tensor,classes,confid):\n",
    "    # Load image\n",
    "    img = cv2.cvtColor(cv2.imread(image_path), cv2.COLOR_BGR2RGB)\n",
    "    print(img.shape)\n",
    "    # Colors for different classes\n",
    "    colors = ['r', 'g', 'b', 'y', 'm', 'c', 'k', 'lime', 'teal', 'purple']\n",
    "\n",
    "    # Create figure and axes\n",
    "    fig, ax = plt.subplots(1, figsize=(12, 9))\n",
    "\n",
    "    # Display the image\n",
    "    ax.imshow(img)\n",
    "\n",
    "    # Loop over tensor and add boxes\n",
    "    for i in range(tensor.shape[0]):\n",
    "        # Bounding box data\n",
    "        x, y, w, h=[int(x) for x in tensor[i]]\n",
    "        print(x,y,w,h)\n",
    "        x = x - w / 2\n",
    "        y = y - h / 2\n",
    "        conf, cls =confid[i],int(classes[i])\n",
    "        # Create a Rectangle patch\n",
    "        rect = patches.Rectangle((x, y), w, h, linewidth=1, edgecolor=colors[int(cls)], facecolor='none')\n",
    "        # Add the patch to the Axes\n",
    "        ax.add_patch(rect)\n",
    "        # Add text (confidence score)\n",
    "        plt.text(x, y, str(round(conf.item(), 2)), color=colors[int(cls)], fontsize=10, \n",
    "                 horizontalalignment='left', verticalalignment='top', \n",
    "                 bbox={'facecolor': colors[int(cls)], 'alpha': 0.4, 'pad': 1})\n",
    "    plt.savefig(\"output.png\", bbox_inches='tight', pad_inches=0)\n",
    "    plt.show()"
   ]
  },
  {
   "cell_type": "code",
   "execution_count": 54,
   "metadata": {},
   "outputs": [],
   "source": [
    "CLASS_NAMES = [\"x-label\",\"y-label\",\"diagram-tick\",'line','dot','vertical_bar','scatter','horizontal_bar']"
   ]
  },
  {
   "cell_type": "code",
   "execution_count": 55,
   "metadata": {},
   "outputs": [],
   "source": [
    "def euclidean_distance(p1,p2):\n",
    "    x1,y1 = p1\n",
    "    x2,y2 = p2\n",
    "    return np.sqrt((x1-x2)**2+(y1-y2)**2)"
   ]
  },
  {
   "cell_type": "code",
   "execution_count": 56,
   "metadata": {},
   "outputs": [],
   "source": [
    "import re\n",
    "def is_number(s: str):\n",
    "    s = re.sub('[,$% ]', '', s)\n",
    "    try:\n",
    "        float(s)\n",
    "        return True\n",
    "    except ValueError:\n",
    "        return False\n",
    "def get_number(s):\n",
    "    if type(s)==str:\n",
    "        return float(re.sub('[,$% ]', '', s))\n",
    "    else:\n",
    "        return float(s)\n"
   ]
  },
  {
   "cell_type": "code",
   "execution_count": 57,
   "metadata": {},
   "outputs": [],
   "source": [
    "import math\n",
    "def scatter_inverse(result, x_tickinfo, y_tickinfo,charttype):\n",
    "    x_labels_numerical = all(is_number(label) for label in x_tickinfo.keys())\n",
    "    y_labels_numerical = all(is_number(label) for label in y_tickinfo.keys())\n",
    "\n",
    "    if x_labels_numerical:\n",
    "        x_ticks = {get_number(k): v for k, v in x_tickinfo.items()}\n",
    "        x_values = list(x_ticks.keys())\n",
    "        x_coords = list(x_ticks.values())\n",
    "    else:\n",
    "        x_mapping = {info['x']: label for label, info in x_tickinfo.items()}\n",
    "\n",
    "    if y_labels_numerical:\n",
    "        y_ticks = {get_number(k): v for k, v in y_tickinfo.items()}\n",
    "        y_values = list(y_ticks.keys())\n",
    "        y_coords = list(y_ticks.values())\n",
    "    else:\n",
    "        y_mapping = {info['y']: label for label, info in y_tickinfo.items()}\n",
    "\n",
    "    dataseries = []\n",
    "    for point in result:\n",
    "        x_coord, y_coord = point\n",
    "\n",
    "        if x_labels_numerical:\n",
    "            for i in range(len(x_values) - 1):\n",
    "                if x_coords[i+1]['x'] <= x_coord <= x_coords[i]['x']:\n",
    "                    ratio = (x_coord - x_coords[i]['x']) / (x_coords[i + 1]['x'] - x_coords[i]['x'])\n",
    "                    x_val = x_values[i] + ratio * (x_values[i + 1] - x_values[i])\n",
    "                    break\n",
    "            else:\n",
    "                ratio = (x_coord - x_coords[0]['x']) / (x_coords[-1]['x'] - x_coords[0]['x'])\n",
    "                x_val = x_values[0] + ratio * (x_values[-1] - x_values[0])\n",
    "        else:\n",
    "            x_val = x_mapping[min(x_mapping.keys(), key=lambda x: abs(x - x_coord))]\n",
    "\n",
    "\n",
    "        if y_labels_numerical:\n",
    "            for i in range(len(y_values) - 1):\n",
    "                if y_coords[i+1]['y'] <= y_coord <= y_coords[i]['y']:\n",
    "                    ratio = (y_coord - y_coords[i]['y']) / (y_coords[i + 1]['y'] - y_coords[i]['y'])\n",
    "                    y_val = y_values[i] + ratio * (y_values[i + 1] - y_values[i])\n",
    "                    break\n",
    "            else:\n",
    "                ratio = (y_coord - y_coords[0]['y']) / (y_coords[-1]['y'] - y_coords[0]['y'])\n",
    "                y_val = y_values[0] + ratio * (y_values[-1] - y_values[0])\n",
    "        else:\n",
    "            y_val = y_mapping[min(y_mapping.keys(), key=lambda x: abs(x - y_coord))]\n",
    "            \n",
    "\n",
    "        dataseries.append({'x': x_val, 'y': y_val})\n",
    "\n",
    "    return dataseries"
   ]
  },
  {
   "cell_type": "code",
   "execution_count": 58,
   "metadata": {},
   "outputs": [],
   "source": [
    "import math\n",
    "def other_inverse(result, x_tickinfo, y_tickinfo,charttype):\n",
    "    y_labels_numerical = all(is_number(label) for label in y_tickinfo.keys())\n",
    "    \n",
    "    x_mapping = {info['x']: label for label, info in x_tickinfo.items()}\n",
    "\n",
    "    if y_labels_numerical:\n",
    "        y_ticks = {get_number(k): v for k, v in y_tickinfo.items()}\n",
    "        y_values = list(y_ticks.keys())\n",
    "        y_coords = list(y_ticks.values())\n",
    "    else:\n",
    "        y_mapping = {info['y']: label for label, info in y_tickinfo.items()}\n",
    "\n",
    "    dataseries = []\n",
    "    for x_val,tick in x_tickinfo.items():\n",
    "        x_coord, y_coord = min(result,key=lambda x: abs(x[0]-tick[\"x\"]))\n",
    "        if y_labels_numerical:\n",
    "            for i in range(len(y_values) - 1):\n",
    "                if y_coords[i+1]['y'] <= y_coord <= y_coords[i]['y']:\n",
    "                    ratio = (y_coord - y_coords[i]['y']) / (y_coords[i + 1]['y'] - y_coords[i]['y'])\n",
    "                    y_val = y_values[i] + ratio * (y_values[i + 1] - y_values[i])\n",
    "                    break\n",
    "            else:\n",
    "                ratio = (y_coord - y_coords[0]['y']) / (y_coords[-1]['y'] - y_coords[0]['y'])\n",
    "                y_val = y_values[0] + ratio * (y_values[-1] - y_values[0])\n",
    "        else:\n",
    "            y_val = y_mapping[min(y_mapping.keys(), key=lambda x: abs(x - y_coord))]\n",
    "            \n",
    "        dataseries.append({'x': x_val, 'y': y_val})\n",
    "    return dataseries\n",
    "\n",
    "def horizontalbar_inverse(result, x_tickinfo, y_tickinfo,charttype):\n",
    "    y_labels_numerical = all(is_number(label) for label in y_tickinfo.keys())\n",
    "    \n",
    "    x_mapping = {info['x']: label for label, info in x_tickinfo.items()}\n",
    "\n",
    "    if y_labels_numerical:\n",
    "        y_ticks = {get_number(k): v for k, v in y_tickinfo.items()}\n",
    "        y_values = list(y_ticks.keys())\n",
    "        y_coords = list(y_ticks.values())\n",
    "    else:\n",
    "        y_mapping = {info['y']: label for label, info in y_tickinfo.items()}\n",
    "\n",
    "    dataseries = []\n",
    "    for x_val,tick in x_tickinfo.items():\n",
    "        y_coord, x_coord = min(result,key=lambda x: abs(x[1]-tick[\"y\"]))\n",
    "        if y_labels_numerical:\n",
    "            for i in range(len(y_values) - 1):\n",
    "                if y_coords[i]['x'] <= y_coord <= y_coords[i+1]['x']:\n",
    "                    ratio = (y_coord - y_coords[i]['x']) / (y_coords[i + 1]['x'] - y_coords[i]['x'])\n",
    "                    y_val = y_values[i] + ratio * (y_values[i + 1] - y_values[i])\n",
    "                    break\n",
    "            else:\n",
    "                ratio = (y_coord - y_coords[0]['x']) / (y_coords[-1]['x'] - y_coords[0]['x'])\n",
    "                y_val = y_values[0] + ratio * (y_values[-1] - y_values[0])\n",
    "        else:\n",
    "            y_val = y_mapping[min(y_mapping.keys(), key=lambda x: abs(x - y_coord))]\n",
    "            \n",
    "        dataseries.append({'x': x_val, 'y': y_val})\n",
    "    return dataseries"
   ]
  },
  {
   "cell_type": "code",
   "execution_count": 59,
   "metadata": {},
   "outputs": [],
   "source": [
    "def get_paired_bbox_ticks(bboxes,bbox,idx):\n",
    "    x,y,w,h = bbox\n",
    "    tickbox = {}\n",
    "    tcount = {}\n",
    "    for x1,y1,text in bboxes:\n",
    "        if text in tickbox:\n",
    "            tcount[text] +=1\n",
    "            text = text+str(tcount[text])\n",
    "        if idx==0:\n",
    "            tickbox[text] = {\"x\":x1,\"y\":y+h/2}\n",
    "        else:\n",
    "            tickbox[text] = {\"x\":x-w/2,\"y\":y1}\n",
    "        if text not in tcount:\n",
    "            tcount[text] = 0\n",
    "    return tickbox\n",
    "    \n",
    "def get_predictions_others(classwise_preds,img,charttype,bbox):\n",
    "    x_bboxes = []\n",
    "    y_bboxes = []\n",
    "    for x,y,w,h,_ in classwise_preds[0]:\n",
    "        x1 = x - w / 2\n",
    "        y1 = y - h / 2\n",
    "        cropbox = img[int(y1):int(y1+h),int(x1):int(x1+w)]\n",
    "        result = get_prediction(Image.fromarray(cropbox))\n",
    "        x_bboxes.append([x,y,result])\n",
    "    for x,y,w,h,_ in classwise_preds[1]:\n",
    "        x1 = x - w / 2\n",
    "        y1 = y - h / 2\n",
    "        cropbox = img[int(y1):int(y1+h),int(x1):int(x1+w)]\n",
    "        result = get_prediction(Image.fromarray(cropbox))\n",
    "        y_bboxes.append([x,y,result])\n",
    "    if charttype==\"horizontal_bar\":\n",
    "        xidx,yidx=1,0\n",
    "    else:\n",
    "        xidx,yidx=0,1\n",
    "    x_tickinfo = get_paired_bbox_ticks(x_bboxes,bbox,xidx)\n",
    "    y_tickinfo = get_paired_bbox_ticks(y_bboxes,bbox,yidx)\n",
    "    print(\"xtick:\",len(x_tickinfo))\n",
    "    print(\"ytick:\",len(y_tickinfo))\n",
    "    \n",
    "    results = [tmp[:2] for tmp in classwise_preds[2]]\n",
    "    \n",
    "    if charttype==\"horizontal_bar\":\n",
    "        results = sorted(results,key=lambda ttmp: ttmp[1])\n",
    "        y_tickinfo = {k: v for k, v in sorted(y_tickinfo.items(), key=lambda item: item[1][\"x\"])}\n",
    "        x_tickinfo = {k: v for k, v in sorted(x_tickinfo.items(), key=lambda item: item[1][\"y\"])}        \n",
    "    else:\n",
    "        results = sorted(results,key=lambda ttmp: ttmp[0])\n",
    "        x_tickinfo = {k: v for k, v in sorted(x_tickinfo.items(), key=lambda item: item[1][\"x\"])}\n",
    "        y_tickinfo = {k: v for k, v in sorted(y_tickinfo.items(),reverse=True, key=lambda item: item[1][\"y\"])}\n",
    "#     print(x_tickinfo)\n",
    "    if charttype==\"scatter\":\n",
    "        answer = scatter_inverse(results,x_tickinfo,y_tickinfo,charttype)\n",
    "    elif charttype==\"horizontal_bar\":\n",
    "        answer = horizontalbar_inverse(results,x_tickinfo,y_tickinfo,charttype)\n",
    "    else:\n",
    "        answer = other_inverse(results,x_tickinfo,y_tickinfo,charttype)\n",
    "    return answer,charttype"
   ]
  },
  {
   "cell_type": "code",
   "execution_count": 60,
   "metadata": {},
   "outputs": [],
   "source": [
    "def remove_contained_boxes(boxes,THRES=0.95):\n",
    "    to_remove = []\n",
    "    for i in range(len(boxes)):\n",
    "        for j in range(i + 1, len(boxes)):\n",
    "            box1 = boxes[i]\n",
    "            box2 = boxes[j]\n",
    "\n",
    "            # Calculate the top-left and bottom-right coordinates of each box\n",
    "            box1_coords = [(box1[0] - box1[2]/2, box1[1] - box1[3]/2), \n",
    "                           (box1[0] + box1[2]/2, box1[1] + box1[3]/2)]\n",
    "            box2_coords = [(box2[0] - box2[2]/2, box2[1] - box2[3]/2), \n",
    "                           (box2[0] + box2[2]/2, box2[1] + box2[3]/2)]\n",
    "\n",
    "            # Calculate the overlap of the two boxes\n",
    "            dx = min(box1_coords[1][0], box2_coords[1][0]) - max(box1_coords[0][0], box2_coords[0][0])\n",
    "            dy = min(box1_coords[1][1], box2_coords[1][1]) - max(box1_coords[0][1], box2_coords[0][1])\n",
    "            if (dx>=0) and (dy>=0):\n",
    "                overlap_area = dx*dy\n",
    "                box1_area = box1[2]*box1[3]\n",
    "                box2_area = box2[2]*box2[3]\n",
    "                \n",
    "                # If box1 is contained within box2\n",
    "                if overlap_area >= THRES * box1_area:\n",
    "                    to_remove.append(i)\n",
    "                \n",
    "                # If box2 is contained within box1\n",
    "                elif overlap_area >= THRES * box2_area:\n",
    "                    to_remove.append(j)\n",
    "\n",
    "    # Remove the boxes that are contained within others\n",
    "    return [box for i, box in enumerate(boxes) if i not in to_remove]"
   ]
  },
  {
   "cell_type": "code",
   "execution_count": 61,
   "metadata": {},
   "outputs": [],
   "source": [
    "def get_predictions(classwise_preds,img):\n",
    "    scores = []\n",
    "    bbox = []\n",
    "    for i in range(3,8):\n",
    "        if len(classwise_preds[i])>0:\n",
    "            mostconf = max(classwise_preds[i],key = lambda x: x[-1])\n",
    "            scores.append(mostconf[-1])\n",
    "            bbox.append(mostconf[:4])\n",
    "        else:\n",
    "            scores.append(0)\n",
    "            bbox.append([])\n",
    "            \n",
    "    amx = np.argmax(scores)\n",
    "    if scores[amx]==0:\n",
    "        return None\n",
    "    charttype = CLASS_NAMES[3+amx]\n",
    "    bounding_box = bbox[amx]\n",
    "    x,y,w,h = bounding_box\n",
    "    xe = x+w/2\n",
    "    ye = y+h/2\n",
    "    x = x-w/2\n",
    "    y= y-h/2\n",
    "    yaxisidx,xaxisidx=1,0\n",
    "    if charttype==\"horizontal_bar\":\n",
    "        yaxisidx,xaxisidx=0,1\n",
    "    # Check1: Only include diagram ticks that are inside the bounding box\n",
    "    filtered = []\n",
    "    for idx, (x1, y1, w1, h1,conf) in enumerate(classwise_preds[2]):\n",
    "        if not ( x>(x1+w1/2) or y>(y1+h1/2) or xe<(x1-w1/2) or ye<(y1-h1/2)):\n",
    "            filtered.append([x1, y1, w1, h1,conf])\n",
    "    print(len(classwise_preds[2]),len(filtered))\n",
    "    classwise_preds[2] = remove_contained_boxes(filtered)\n",
    "    # CHeck2: Only keep yaxis labels on the left side of bounding box\n",
    "    filtered = []\n",
    "    for idx,(x1,y1,w1,h1,conf) in enumerate(classwise_preds[yaxisidx]):\n",
    "        if (x1-w1/2)<x and (y1-h1/2)<ye and (y1+h1/2)>y:\n",
    "            filtered.append([x1, y1, w1, h1,conf])\n",
    "    print(len(classwise_preds[yaxisidx]),len(filtered))\n",
    "    classwise_preds[yaxisidx] = remove_contained_boxes(filtered)\n",
    "    print(\"removed contained:\",len(classwise_preds[yaxisidx]),len(filtered))\n",
    "    \n",
    "    # Check 3: Only keep xaxis labels on the bottom side of bounding box\n",
    "    filtered = []\n",
    "    for idx,(x1,y1,w1,h1,conf) in enumerate(classwise_preds[xaxisidx]):\n",
    "        if (y1+h1/2)>ye and (x1-w1/2)<xe and (x1+w1/2)>x:\n",
    "            filtered.append([x1, y1, w1, h1,conf])\n",
    "    print(len(classwise_preds[xaxisidx]),len(filtered))\n",
    "    classwise_preds[xaxisidx] = remove_contained_boxes(filtered)\n",
    "    print(\"removed contained:\",len(classwise_preds[xaxisidx]),len(filtered))\n",
    "#     print(classwise_preds)\n",
    "    return get_predictions_others(classwise_preds,img,charttype,bounding_box)"
   ]
  },
  {
   "cell_type": "code",
   "execution_count": 62,
   "metadata": {},
   "outputs": [],
   "source": [
    "import pandas as pd\n",
    "import matplotlib.pyplot as plt\n",
    "import numpy as np\n",
    "import pandas as pd\n",
    "from rapidfuzz.distance.Levenshtein import distance as levenshtein\n",
    "\n",
    "def sigmoid(x):\n",
    "    return 2 - 2 / (1 + np.exp(-x))\n",
    "\n",
    "def r2_score(y_true, y_pred):\n",
    "    ss_res = np.sum(np.square(y_true - y_pred))\n",
    "    ss_tot = np.sum(np.square(y_true - np.mean(y_true)))\n",
    "    r2 = 1 - (ss_res / ss_tot)\n",
    "    return r2\n",
    "\n",
    "def normalized_rmse(y_true, y_pred):\n",
    "    # The argument to the sigmoid transform is equal to \n",
    "    # rmse(y_true, y_pred) / rmse(y_true, np.mean(y_true))\n",
    "    return sigmoid((1 - r2_score(np.array(y_true), np.array(y_pred))) ** 0.5)\n",
    "\n",
    "\n",
    "def normalized_levenshtein_score(y_true, y_pred):\n",
    "    total_distance = np.sum([levenshtein(yt, yp) for yt, yp in zip(y_true, y_pred)])\n",
    "    length_sum = np.sum([len(yt) for yt in y_true])\n",
    "    return sigmoid(total_distance / length_sum)\n",
    "\n",
    "\n",
    "def score_series(y_true, y_pred):\n",
    "    y_pred = y_pred.split(\";\")\n",
    "    if len(y_true) != len(y_pred):\n",
    "        # print(\"unequal\")\n",
    "        return 0.0\n",
    "    if isinstance(y_true[0], str):\n",
    "        return normalized_levenshtein_score(y_true, y_pred)\n",
    "    else:\n",
    "        try:\n",
    "            y_pred = [float(x) for x in y_pred]\n",
    "        except:\n",
    "            # \"Error\"\n",
    "            return 0\n",
    "        return normalized_rmse(y_true, y_pred)\n",
    "\n",
    "\n",
    "def benetech_score(ground_truth: pd.DataFrame, predictions: pd.DataFrame) -> float:\n",
    "    \"\"\"Evaluate predictions using the metric from the Benetech - Making Graphs Accessible.\n",
    "    \n",
    "    Parameters\n",
    "    ----------\n",
    "    ground_truth: pd.DataFrame\n",
    "        Has columns `[data_series, chart_type]` and an index `id`. Values in `data_series` \n",
    "        should be either arrays of floats or arrays of strings.\n",
    "    \n",
    "    predictions: pd.DataFrame\n",
    "    \"\"\"\n",
    "    if not ground_truth.index.equals(predictions.index):\n",
    "        raise ValueError(\"Must have exactly one prediction for each ground-truth instance.\")\n",
    "    if not ground_truth.columns.equals(predictions.columns):\n",
    "        raise ValueError(f\"Predictions must have columns: {ground_truth.columns}.\")\n",
    "    pairs = zip(ground_truth.itertuples(index=False), predictions.itertuples(index=False))\n",
    "    scores = []\n",
    "    for (gt_series, gt_type), (pred_series, pred_type) in pairs:\n",
    "        if gt_type != pred_type:  # Check chart_type condition\n",
    "            print(\"different charts\")\n",
    "            scores.append(0.0)\n",
    "        else:  # Score with RMSE or Levenshtein as appropriate\n",
    "            scores.append(score_series(gt_series, pred_series))\n",
    "    return scores"
   ]
  },
  {
   "cell_type": "code",
   "execution_count": 63,
   "metadata": {},
   "outputs": [],
   "source": [
    "# pth = random.choice(extracted_images)\n",
    "# img = cv2.cvtColor(cv2.imread(pth), cv2.COLOR_BGR2RGB)\n",
    "# results = detect_yolo(pth)\n",
    "# tmppred = [results[:,:4].cpu(),results[:,4].cpu(),results[:,5].cpu()]    \n",
    "# byclass = divide_by_class(*tmppred)\n",
    "# # preds,ctype =get_predictions(byclass,img)\n",
    "# jsonname = os.path.split(pth)[-1].replace(\".jpg\",\"\")\n",
    "# jsonpath = os.path.join(\"../datasets/dataset/train/annotations\",jsonname+\".json\")\n",
    "# annot = json.load(open(jsonpath))\n",
    "# # print(ctype)\n",
    "# # print(len(preds),len(annot[\"data-series\"]))\n",
    "# # print(\"x:\", ([pp[\"x\"] for pp in preds]))\n",
    "# # print(\"y:\", ([pp[\"y\"] for pp in preds]))\n",
    "# # print(\"gt_x:\", [pp[\"x\"] for pp in annot[\"data-series\"] if \"x\" in pp])\n",
    "# # print(\"gt_y:\", [pp[\"y\"] for pp in annot[\"data-series\"] if \"y\" in pp])\n",
    "# # print(len(byclass[0]))\n",
    "# # plot_boxes(pth,[],[],[])\n",
    "# plot_boxes(pth,results[:,:4].cpu().numpy(),results[:,4].cpu().numpy(),results[:,5].cpu())"
   ]
  },
  {
   "cell_type": "code",
   "execution_count": 64,
   "metadata": {
    "collapsed": true,
    "jupyter": {
     "outputs_hidden": true
    }
   },
   "outputs": [
    {
     "name": "stderr",
     "output_type": "stream",
     "text": [
      "  0%|                                                                                                                                      | 0/223 [00:00<?, ?it/s]"
     ]
    },
    {
     "name": "stdout",
     "output_type": "stream",
     "text": [
      "5 5\n",
      "9 9\n",
      "removed contained: 9 9\n",
      "5 5\n",
      "removed contained: 5 5\n"
     ]
    },
    {
     "name": "stderr",
     "output_type": "stream",
     "text": [
      "  0%|▌                                                                                                                             | 1/223 [00:02<09:18,  2.51s/it]"
     ]
    },
    {
     "name": "stdout",
     "output_type": "stream",
     "text": [
      "xtick: 5\n",
      "ytick: 9\n",
      "15 15\n",
      "5 5\n",
      "removed contained: 5 5\n",
      "13 13\n",
      "removed contained: 13 13\n"
     ]
    },
    {
     "name": "stderr",
     "output_type": "stream",
     "text": [
      "  1%|█▏                                                                                                                            | 2/223 [00:05<10:51,  2.95s/it]"
     ]
    },
    {
     "name": "stdout",
     "output_type": "stream",
     "text": [
      "xtick: 13\n",
      "ytick: 5\n",
      "31 31\n",
      "7 7\n",
      "removed contained: 7 7\n",
      "10 10\n",
      "removed contained: 10 10\n"
     ]
    },
    {
     "name": "stderr",
     "output_type": "stream",
     "text": [
      "  1%|█▋                                                                                                                            | 3/223 [00:07<08:15,  2.25s/it]"
     ]
    },
    {
     "name": "stdout",
     "output_type": "stream",
     "text": [
      "xtick: 10\n",
      "ytick: 7\n",
      "4 4\n",
      "9 9\n",
      "removed contained: 9 9\n",
      "4 4\n",
      "removed contained: 4 4\n"
     ]
    },
    {
     "name": "stderr",
     "output_type": "stream",
     "text": [
      "  2%|██▎                                                                                                                           | 4/223 [00:09<07:43,  2.11s/it]"
     ]
    },
    {
     "name": "stdout",
     "output_type": "stream",
     "text": [
      "xtick: 4\n",
      "ytick: 9\n",
      "12 12\n",
      "11 11\n",
      "removed contained: 11 11\n",
      "12 12\n",
      "removed contained: 12 12\n"
     ]
    },
    {
     "name": "stderr",
     "output_type": "stream",
     "text": [
      "  2%|██▊                                                                                                                           | 5/223 [00:11<07:30,  2.07s/it]"
     ]
    },
    {
     "name": "stdout",
     "output_type": "stream",
     "text": [
      "xtick: 12\n",
      "ytick: 11\n",
      "6 6\n",
      "6 6\n",
      "removed contained: 6 6\n",
      "7 7\n",
      "removed contained: 7 7\n"
     ]
    },
    {
     "name": "stderr",
     "output_type": "stream",
     "text": [
      "  3%|███▍                                                                                                                          | 6/223 [00:12<06:32,  1.81s/it]"
     ]
    },
    {
     "name": "stdout",
     "output_type": "stream",
     "text": [
      "xtick: 7\n",
      "ytick: 6\n",
      "7 7\n",
      "5 5\n",
      "removed contained: 5 5\n",
      "7 7\n",
      "removed contained: 7 7\n"
     ]
    },
    {
     "name": "stderr",
     "output_type": "stream",
     "text": [
      "  3%|███▉                                                                                                                          | 7/223 [00:13<05:44,  1.60s/it]"
     ]
    },
    {
     "name": "stdout",
     "output_type": "stream",
     "text": [
      "xtick: 7\n",
      "ytick: 5\n",
      "4 4\n",
      "6 6\n",
      "removed contained: 6 6\n",
      "5 4\n",
      "removed contained: 4 4\n"
     ]
    },
    {
     "name": "stderr",
     "output_type": "stream",
     "text": [
      "  4%|████▌                                                                                                                         | 8/223 [00:15<05:42,  1.59s/it]"
     ]
    },
    {
     "name": "stdout",
     "output_type": "stream",
     "text": [
      "xtick: 4\n",
      "ytick: 6\n",
      "5 5\n",
      "10 10\n",
      "removed contained: 10 10\n",
      "5 5\n",
      "removed contained: 5 5\n"
     ]
    },
    {
     "name": "stderr",
     "output_type": "stream",
     "text": [
      "  4%|█████                                                                                                                         | 9/223 [00:16<05:45,  1.61s/it]"
     ]
    },
    {
     "name": "stdout",
     "output_type": "stream",
     "text": [
      "xtick: 5\n",
      "ytick: 10\n",
      "12 12\n",
      "6 6\n",
      "removed contained: 6 6\n",
      "12 12\n",
      "removed contained: 10 12\n"
     ]
    },
    {
     "name": "stderr",
     "output_type": "stream",
     "text": [
      "  4%|█████▌                                                                                                                       | 10/223 [00:18<05:26,  1.53s/it]"
     ]
    },
    {
     "name": "stdout",
     "output_type": "stream",
     "text": [
      "xtick: 10\n",
      "ytick: 6\n",
      "10 10\n",
      "7 7\n",
      "removed contained: 7 7\n",
      "10 10\n",
      "removed contained: 10 10\n"
     ]
    },
    {
     "name": "stderr",
     "output_type": "stream",
     "text": [
      "  5%|██████▏                                                                                                                      | 11/223 [00:19<05:07,  1.45s/it]"
     ]
    },
    {
     "name": "stdout",
     "output_type": "stream",
     "text": [
      "xtick: 10\n",
      "ytick: 7\n",
      "27 27\n",
      "9 9\n",
      "removed contained: 9 9\n",
      "27 27\n",
      "removed contained: 21 27\n"
     ]
    },
    {
     "name": "stderr",
     "output_type": "stream",
     "text": [
      "  5%|██████▋                                                                                                                      | 12/223 [00:21<05:59,  1.70s/it]"
     ]
    },
    {
     "name": "stdout",
     "output_type": "stream",
     "text": [
      "xtick: 21\n",
      "ytick: 9\n",
      "8 8\n",
      "5 5\n",
      "removed contained: 5 5\n",
      "8 8\n",
      "removed contained: 8 8\n"
     ]
    },
    {
     "name": "stderr",
     "output_type": "stream",
     "text": [
      "  6%|███████▎                                                                                                                     | 13/223 [00:22<05:04,  1.45s/it]"
     ]
    },
    {
     "name": "stdout",
     "output_type": "stream",
     "text": [
      "xtick: 8\n",
      "ytick: 5\n",
      "8 8\n",
      "11 11\n",
      "removed contained: 11 11\n",
      "11 11\n",
      "removed contained: 11 11\n"
     ]
    },
    {
     "name": "stderr",
     "output_type": "stream",
     "text": [
      "  6%|███████▊                                                                                                                     | 14/223 [00:24<05:51,  1.68s/it]"
     ]
    },
    {
     "name": "stdout",
     "output_type": "stream",
     "text": [
      "xtick: 11\n",
      "ytick: 11\n",
      "3 3\n",
      "8 8\n",
      "removed contained: 8 8\n",
      "5 5\n",
      "removed contained: 5 5\n"
     ]
    },
    {
     "name": "stderr",
     "output_type": "stream",
     "text": [
      "  7%|████████▍                                                                                                                    | 15/223 [00:25<05:06,  1.48s/it]"
     ]
    },
    {
     "name": "stdout",
     "output_type": "stream",
     "text": [
      "xtick: 5\n",
      "ytick: 8\n",
      "4 4\n",
      "6 6\n",
      "removed contained: 6 6\n",
      "5 5\n",
      "removed contained: 5 5\n"
     ]
    },
    {
     "name": "stderr",
     "output_type": "stream",
     "text": [
      "  7%|████████▉                                                                                                                    | 16/223 [00:26<04:48,  1.39s/it]"
     ]
    },
    {
     "name": "stdout",
     "output_type": "stream",
     "text": [
      "xtick: 5\n",
      "ytick: 6\n",
      "13 13\n",
      "22 17\n",
      "removed contained: 17 17\n",
      "5 4\n",
      "removed contained: 4 4\n"
     ]
    },
    {
     "name": "stderr",
     "output_type": "stream",
     "text": [
      "  8%|█████████▌                                                                                                                   | 17/223 [00:28<04:30,  1.31s/it]"
     ]
    },
    {
     "name": "stdout",
     "output_type": "stream",
     "text": [
      "xtick: 17\n",
      "ytick: 4\n",
      "8 8\n",
      "8 8\n",
      "removed contained: 8 8\n",
      "3 3\n",
      "removed contained: 3 3\n"
     ]
    },
    {
     "name": "stderr",
     "output_type": "stream",
     "text": [
      "  8%|██████████                                                                                                                   | 18/223 [00:28<04:01,  1.18s/it]"
     ]
    },
    {
     "name": "stdout",
     "output_type": "stream",
     "text": [
      "xtick: 8\n",
      "ytick: 3\n",
      "9 9\n",
      "6 6\n",
      "removed contained: 6 6\n",
      "17 17\n",
      "removed contained: 17 17\n"
     ]
    },
    {
     "name": "stderr",
     "output_type": "stream",
     "text": [
      "  9%|██████████▋                                                                                                                  | 19/223 [00:31<04:59,  1.47s/it]"
     ]
    },
    {
     "name": "stdout",
     "output_type": "stream",
     "text": [
      "xtick: 17\n",
      "ytick: 6\n",
      "15 15\n",
      "8 8\n",
      "removed contained: 8 8\n",
      "17 16\n",
      "removed contained: 16 16\n"
     ]
    },
    {
     "name": "stderr",
     "output_type": "stream",
     "text": [
      "  9%|███████████▏                                                                                                                 | 20/223 [00:32<05:13,  1.55s/it]"
     ]
    },
    {
     "name": "stdout",
     "output_type": "stream",
     "text": [
      "xtick: 16\n",
      "ytick: 8\n",
      "9 9\n",
      "7 7\n",
      "removed contained: 7 7\n",
      "10 10\n",
      "removed contained: 10 10\n"
     ]
    },
    {
     "name": "stderr",
     "output_type": "stream",
     "text": [
      "  9%|███████████▊                                                                                                                 | 21/223 [00:34<05:36,  1.67s/it]"
     ]
    },
    {
     "name": "stdout",
     "output_type": "stream",
     "text": [
      "xtick: 10\n",
      "ytick: 7\n",
      "10 10\n",
      "6 6\n",
      "removed contained: 6 6\n",
      "11 11\n",
      "removed contained: 11 11\n"
     ]
    },
    {
     "name": "stderr",
     "output_type": "stream",
     "text": [
      " 10%|████████████▎                                                                                                                | 22/223 [00:36<05:31,  1.65s/it]"
     ]
    },
    {
     "name": "stdout",
     "output_type": "stream",
     "text": [
      "xtick: 11\n",
      "ytick: 6\n",
      "11 11\n",
      "7 7\n",
      "removed contained: 7 7\n",
      "11 11\n",
      "removed contained: 11 11\n"
     ]
    },
    {
     "name": "stderr",
     "output_type": "stream",
     "text": [
      " 10%|████████████▉                                                                                                                | 23/223 [00:38<05:55,  1.78s/it]"
     ]
    },
    {
     "name": "stdout",
     "output_type": "stream",
     "text": [
      "xtick: 11\n",
      "ytick: 7\n",
      "7 7\n",
      "6 6\n",
      "removed contained: 6 6\n",
      "7 7\n",
      "removed contained: 7 7\n"
     ]
    },
    {
     "name": "stderr",
     "output_type": "stream",
     "text": [
      " 11%|█████████████▍                                                                                                               | 24/223 [00:39<05:16,  1.59s/it]"
     ]
    },
    {
     "name": "stdout",
     "output_type": "stream",
     "text": [
      "xtick: 7\n",
      "ytick: 6\n",
      "6 6\n",
      "9 9\n",
      "removed contained: 9 9\n",
      "5 5\n",
      "removed contained: 5 5\n"
     ]
    },
    {
     "name": "stderr",
     "output_type": "stream",
     "text": [
      " 11%|██████████████                                                                                                               | 25/223 [00:40<04:21,  1.32s/it]"
     ]
    },
    {
     "name": "stdout",
     "output_type": "stream",
     "text": [
      "xtick: 5\n",
      "ytick: 9\n",
      "7 7\n",
      "6 6\n",
      "removed contained: 6 6\n",
      "7 7\n",
      "removed contained: 7 7\n"
     ]
    },
    {
     "name": "stderr",
     "output_type": "stream",
     "text": [
      " 12%|██████████████▌                                                                                                              | 26/223 [00:41<03:58,  1.21s/it]"
     ]
    },
    {
     "name": "stdout",
     "output_type": "stream",
     "text": [
      "xtick: 7\n",
      "ytick: 6\n",
      "0 0\n",
      "4 4\n",
      "removed contained: 4 4\n",
      "4 4\n",
      "removed contained: 4 4\n"
     ]
    },
    {
     "name": "stderr",
     "output_type": "stream",
     "text": [
      " 12%|███████████████▏                                                                                                             | 27/223 [00:41<03:21,  1.03s/it]"
     ]
    },
    {
     "name": "stdout",
     "output_type": "stream",
     "text": [
      "xtick: 4\n",
      "ytick: 4\n",
      "Error\n",
      "12 12\n",
      "10 10\n",
      "removed contained: 10 10\n",
      "12 12\n",
      "removed contained: 11 12\n"
     ]
    },
    {
     "name": "stderr",
     "output_type": "stream",
     "text": [
      " 13%|███████████████▋                                                                                                             | 28/223 [00:43<03:38,  1.12s/it]"
     ]
    },
    {
     "name": "stdout",
     "output_type": "stream",
     "text": [
      "xtick: 11\n",
      "ytick: 10\n",
      "5 5\n",
      "11 11\n",
      "removed contained: 11 11\n",
      "5 5\n",
      "removed contained: 5 5\n"
     ]
    },
    {
     "name": "stderr",
     "output_type": "stream",
     "text": [
      " 13%|████████████████▎                                                                                                            | 29/223 [00:44<04:08,  1.28s/it]"
     ]
    },
    {
     "name": "stdout",
     "output_type": "stream",
     "text": [
      "xtick: 5\n",
      "ytick: 11\n",
      "7 7\n",
      "5 5\n",
      "removed contained: 5 5\n",
      "7 7\n",
      "removed contained: 7 7\n"
     ]
    },
    {
     "name": "stderr",
     "output_type": "stream",
     "text": [
      " 13%|████████████████▊                                                                                                            | 30/223 [00:45<03:32,  1.10s/it]"
     ]
    },
    {
     "name": "stdout",
     "output_type": "stream",
     "text": [
      "xtick: 7\n",
      "ytick: 5\n",
      "54 54\n",
      "8 8\n",
      "removed contained: 8 8\n",
      "56 56\n",
      "removed contained: 55 56\n"
     ]
    },
    {
     "name": "stderr",
     "output_type": "stream",
     "text": [
      " 14%|█████████████████▍                                                                                                           | 31/223 [00:50<07:14,  2.26s/it]"
     ]
    },
    {
     "name": "stdout",
     "output_type": "stream",
     "text": [
      "xtick: 55\n",
      "ytick: 8\n",
      "9 9\n",
      "9 9\n",
      "removed contained: 9 9\n",
      "7 7\n",
      "removed contained: 7 7\n"
     ]
    },
    {
     "name": "stderr",
     "output_type": "stream",
     "text": [
      " 14%|█████████████████▉                                                                                                           | 32/223 [00:51<05:55,  1.86s/it]"
     ]
    },
    {
     "name": "stdout",
     "output_type": "stream",
     "text": [
      "xtick: 9\n",
      "ytick: 7\n",
      "7 7\n",
      "6 6\n",
      "removed contained: 6 6\n",
      "7 7\n",
      "removed contained: 7 7\n"
     ]
    },
    {
     "name": "stderr",
     "output_type": "stream",
     "text": [
      " 15%|██████████████████▍                                                                                                          | 33/223 [00:52<05:07,  1.62s/it]"
     ]
    },
    {
     "name": "stdout",
     "output_type": "stream",
     "text": [
      "xtick: 7\n",
      "ytick: 6\n",
      "10 10\n",
      "11 11\n",
      "removed contained: 11 11\n",
      "10 10\n",
      "removed contained: 10 10\n"
     ]
    },
    {
     "name": "stderr",
     "output_type": "stream",
     "text": [
      " 15%|███████████████████                                                                                                          | 34/223 [00:55<06:02,  1.92s/it]"
     ]
    },
    {
     "name": "stdout",
     "output_type": "stream",
     "text": [
      "xtick: 10\n",
      "ytick: 11\n",
      "10 10\n",
      "3 3\n",
      "removed contained: 3 3\n",
      "4 4\n",
      "removed contained: 4 4\n"
     ]
    },
    {
     "name": "stderr",
     "output_type": "stream",
     "text": [
      " 16%|███████████████████▌                                                                                                         | 35/223 [00:56<05:13,  1.67s/it]"
     ]
    },
    {
     "name": "stdout",
     "output_type": "stream",
     "text": [
      "xtick: 4\n",
      "ytick: 3\n",
      "6 6\n",
      "5 5\n",
      "removed contained: 5 5\n",
      "6 6\n",
      "removed contained: 6 6\n"
     ]
    },
    {
     "name": "stderr",
     "output_type": "stream",
     "text": [
      " 16%|████████████████████▏                                                                                                        | 36/223 [00:57<04:25,  1.42s/it]"
     ]
    },
    {
     "name": "stdout",
     "output_type": "stream",
     "text": [
      "xtick: 6\n",
      "ytick: 5\n",
      "5 5\n",
      "11 11\n",
      "removed contained: 11 11\n",
      "6 6\n",
      "removed contained: 5 6\n"
     ]
    },
    {
     "name": "stderr",
     "output_type": "stream",
     "text": [
      " 17%|████████████████████▋                                                                                                        | 37/223 [00:57<03:44,  1.21s/it]"
     ]
    },
    {
     "name": "stdout",
     "output_type": "stream",
     "text": [
      "xtick: 5\n",
      "ytick: 11\n",
      "4 4\n",
      "4 4\n",
      "removed contained: 4 4\n",
      "5 5\n",
      "removed contained: 5 5\n"
     ]
    },
    {
     "name": "stderr",
     "output_type": "stream",
     "text": [
      " 17%|█████████████████████▎                                                                                                       | 38/223 [00:58<02:57,  1.04it/s]"
     ]
    },
    {
     "name": "stdout",
     "output_type": "stream",
     "text": [
      "xtick: 5\n",
      "ytick: 4\n",
      "30 30\n",
      "11 10\n",
      "removed contained: 10 10\n",
      "12 11\n",
      "removed contained: 11 11\n"
     ]
    },
    {
     "name": "stderr",
     "output_type": "stream",
     "text": [
      " 17%|█████████████████████▊                                                                                                       | 39/223 [01:00<03:58,  1.30s/it]"
     ]
    },
    {
     "name": "stdout",
     "output_type": "stream",
     "text": [
      "xtick: 11\n",
      "ytick: 10\n",
      "90 90\n",
      "7 7\n",
      "removed contained: 7 7\n",
      "11 11\n",
      "removed contained: 11 11\n"
     ]
    },
    {
     "name": "stderr",
     "output_type": "stream",
     "text": [
      " 18%|██████████████████████▍                                                                                                      | 40/223 [01:01<03:36,  1.18s/it]"
     ]
    },
    {
     "name": "stdout",
     "output_type": "stream",
     "text": [
      "xtick: 11\n",
      "ytick: 7\n",
      "5 5\n",
      "7 7\n",
      "removed contained: 7 7\n",
      "9 9\n",
      "removed contained: 9 9\n"
     ]
    },
    {
     "name": "stderr",
     "output_type": "stream",
     "text": [
      " 18%|██████████████████████▉                                                                                                      | 41/223 [01:03<04:20,  1.43s/it]"
     ]
    },
    {
     "name": "stdout",
     "output_type": "stream",
     "text": [
      "xtick: 9\n",
      "ytick: 7\n",
      "5 5\n",
      "9 9\n",
      "removed contained: 9 9\n",
      "5 5\n",
      "removed contained: 5 5\n"
     ]
    },
    {
     "name": "stderr",
     "output_type": "stream",
     "text": [
      " 19%|███████████████████████▌                                                                                                     | 42/223 [01:03<03:48,  1.26s/it]"
     ]
    },
    {
     "name": "stdout",
     "output_type": "stream",
     "text": [
      "xtick: 5\n",
      "ytick: 9\n",
      "3 3\n",
      "11 11\n",
      "removed contained: 11 11\n",
      "3 3\n",
      "removed contained: 3 3\n"
     ]
    },
    {
     "name": "stderr",
     "output_type": "stream",
     "text": [
      " 19%|████████████████████████                                                                                                     | 43/223 [01:06<04:30,  1.50s/it]"
     ]
    },
    {
     "name": "stdout",
     "output_type": "stream",
     "text": [
      "xtick: 3\n",
      "ytick: 11\n",
      "3 3\n",
      "8 8\n",
      "removed contained: 8 8\n",
      "5 5\n",
      "removed contained: 5 5\n"
     ]
    },
    {
     "name": "stderr",
     "output_type": "stream",
     "text": [
      " 20%|████████████████████████▋                                                                                                    | 44/223 [01:07<04:00,  1.34s/it]"
     ]
    },
    {
     "name": "stdout",
     "output_type": "stream",
     "text": [
      "xtick: 5\n",
      "ytick: 8\n",
      "17 17\n",
      "5 5\n",
      "removed contained: 5 5\n",
      "8 8\n",
      "removed contained: 8 8\n"
     ]
    },
    {
     "name": "stderr",
     "output_type": "stream",
     "text": [
      " 20%|█████████████████████████▏                                                                                                   | 45/223 [01:08<04:16,  1.44s/it]"
     ]
    },
    {
     "name": "stdout",
     "output_type": "stream",
     "text": [
      "xtick: 8\n",
      "ytick: 5\n",
      "94 94\n",
      "7 7\n",
      "removed contained: 7 7\n",
      "11 11\n",
      "removed contained: 11 11\n"
     ]
    },
    {
     "name": "stderr",
     "output_type": "stream",
     "text": [
      " 21%|█████████████████████████▊                                                                                                   | 46/223 [01:10<04:37,  1.57s/it]"
     ]
    },
    {
     "name": "stdout",
     "output_type": "stream",
     "text": [
      "xtick: 11\n",
      "ytick: 7\n",
      "9 9\n",
      "10 10\n",
      "removed contained: 10 10\n",
      "12 12\n",
      "removed contained: 12 12\n"
     ]
    },
    {
     "name": "stderr",
     "output_type": "stream",
     "text": [
      " 21%|██████████████████████████▎                                                                                                  | 47/223 [01:13<05:23,  1.84s/it]"
     ]
    },
    {
     "name": "stdout",
     "output_type": "stream",
     "text": [
      "xtick: 12\n",
      "ytick: 10\n",
      "14 14\n",
      "6 6\n",
      "removed contained: 6 6\n",
      "13 13\n",
      "removed contained: 13 13\n"
     ]
    },
    {
     "name": "stderr",
     "output_type": "stream",
     "text": [
      " 22%|██████████████████████████▉                                                                                                  | 48/223 [01:15<05:43,  1.96s/it]"
     ]
    },
    {
     "name": "stdout",
     "output_type": "stream",
     "text": [
      "xtick: 13\n",
      "ytick: 6\n",
      "8 8\n",
      "8 8\n",
      "removed contained: 8 8\n",
      "8 8\n",
      "removed contained: 8 8\n"
     ]
    },
    {
     "name": "stderr",
     "output_type": "stream",
     "text": [
      " 22%|███████████████████████████▍                                                                                                 | 49/223 [01:16<05:07,  1.77s/it]"
     ]
    },
    {
     "name": "stdout",
     "output_type": "stream",
     "text": [
      "xtick: 8\n",
      "ytick: 8\n",
      "12 12\n",
      "5 5\n",
      "removed contained: 5 5\n",
      "12 12\n",
      "removed contained: 12 12\n"
     ]
    },
    {
     "name": "stderr",
     "output_type": "stream",
     "text": [
      " 22%|████████████████████████████                                                                                                 | 50/223 [01:19<05:48,  2.02s/it]"
     ]
    },
    {
     "name": "stdout",
     "output_type": "stream",
     "text": [
      "xtick: 12\n",
      "ytick: 5\n",
      "4 4\n",
      "8 8\n",
      "removed contained: 8 8\n",
      "4 4\n",
      "removed contained: 4 4\n"
     ]
    },
    {
     "name": "stderr",
     "output_type": "stream",
     "text": [
      " 23%|████████████████████████████▌                                                                                                | 51/223 [01:19<04:42,  1.64s/it]"
     ]
    },
    {
     "name": "stdout",
     "output_type": "stream",
     "text": [
      "xtick: 4\n",
      "ytick: 8\n",
      "5 5\n",
      "2 2\n",
      "removed contained: 2 2\n",
      "5 5\n",
      "removed contained: 5 5\n"
     ]
    },
    {
     "name": "stderr",
     "output_type": "stream",
     "text": [
      " 23%|█████████████████████████████▏                                                                                               | 52/223 [01:20<03:39,  1.28s/it]"
     ]
    },
    {
     "name": "stdout",
     "output_type": "stream",
     "text": [
      "xtick: 5\n",
      "ytick: 2\n",
      "3 3\n",
      "9 9\n",
      "removed contained: 9 9\n",
      "3 3\n",
      "removed contained: 3 3\n"
     ]
    },
    {
     "name": "stderr",
     "output_type": "stream",
     "text": [
      " 24%|█████████████████████████████▋                                                                                               | 53/223 [01:22<04:09,  1.47s/it]"
     ]
    },
    {
     "name": "stdout",
     "output_type": "stream",
     "text": [
      "xtick: 3\n",
      "ytick: 9\n",
      "7 7\n",
      "6 6\n",
      "removed contained: 6 6\n",
      "7 7\n",
      "removed contained: 7 7\n"
     ]
    },
    {
     "name": "stderr",
     "output_type": "stream",
     "text": [
      " 24%|██████████████████████████████▎                                                                                              | 54/223 [01:23<03:43,  1.32s/it]"
     ]
    },
    {
     "name": "stdout",
     "output_type": "stream",
     "text": [
      "xtick: 7\n",
      "ytick: 6\n",
      "6 6\n",
      "5 5\n",
      "removed contained: 5 5\n",
      "8 8\n",
      "removed contained: 6 8\n"
     ]
    },
    {
     "name": "stderr",
     "output_type": "stream",
     "text": [
      " 25%|██████████████████████████████▊                                                                                              | 55/223 [01:25<04:04,  1.45s/it]"
     ]
    },
    {
     "name": "stdout",
     "output_type": "stream",
     "text": [
      "xtick: 6\n",
      "ytick: 5\n",
      "4 4\n",
      "4 4\n",
      "removed contained: 4 4\n",
      "10 10\n",
      "removed contained: 10 10\n"
     ]
    },
    {
     "name": "stderr",
     "output_type": "stream",
     "text": [
      " 25%|███████████████████████████████▍                                                                                             | 56/223 [01:25<03:27,  1.24s/it]"
     ]
    },
    {
     "name": "stdout",
     "output_type": "stream",
     "text": [
      "xtick: 4\n",
      "ytick: 10\n",
      "40 40\n",
      "7 7\n",
      "removed contained: 7 7\n",
      "5 5\n",
      "removed contained: 5 5\n"
     ]
    },
    {
     "name": "stderr",
     "output_type": "stream",
     "text": [
      " 26%|███████████████████████████████▉                                                                                             | 57/223 [01:27<04:08,  1.50s/it]"
     ]
    },
    {
     "name": "stdout",
     "output_type": "stream",
     "text": [
      "xtick: 5\n",
      "ytick: 7\n",
      "11 11\n",
      "8 8\n",
      "removed contained: 8 8\n",
      "6 6\n",
      "removed contained: 6 6\n"
     ]
    },
    {
     "name": "stderr",
     "output_type": "stream",
     "text": [
      " 26%|████████████████████████████████▌                                                                                            | 58/223 [01:29<04:11,  1.53s/it]"
     ]
    },
    {
     "name": "stdout",
     "output_type": "stream",
     "text": [
      "xtick: 6\n",
      "ytick: 8\n",
      "3 3\n",
      "8 8\n",
      "removed contained: 8 8\n",
      "3 3\n",
      "removed contained: 3 3\n"
     ]
    },
    {
     "name": "stderr",
     "output_type": "stream",
     "text": [
      " 26%|█████████████████████████████████                                                                                            | 59/223 [01:30<03:42,  1.36s/it]"
     ]
    },
    {
     "name": "stdout",
     "output_type": "stream",
     "text": [
      "xtick: 3\n",
      "ytick: 8\n",
      "5 5\n",
      "9 9\n",
      "removed contained: 9 9\n",
      "5 5\n",
      "removed contained: 5 5\n"
     ]
    },
    {
     "name": "stderr",
     "output_type": "stream",
     "text": [
      " 27%|█████████████████████████████████▋                                                                                           | 60/223 [01:31<03:49,  1.41s/it]"
     ]
    },
    {
     "name": "stdout",
     "output_type": "stream",
     "text": [
      "xtick: 5\n",
      "ytick: 9\n",
      "4 4\n",
      "13 11\n",
      "removed contained: 11 11\n",
      "11 8\n",
      "removed contained: 8 8\n"
     ]
    },
    {
     "name": "stderr",
     "output_type": "stream",
     "text": [
      " 27%|██████████████████████████████████▏                                                                                          | 61/223 [01:34<05:03,  1.87s/it]"
     ]
    },
    {
     "name": "stdout",
     "output_type": "stream",
     "text": [
      "xtick: 8\n",
      "ytick: 11\n",
      "4 4\n",
      "9 9\n",
      "removed contained: 9 9\n",
      "5 5\n",
      "removed contained: 5 5\n"
     ]
    },
    {
     "name": "stderr",
     "output_type": "stream",
     "text": [
      " 28%|██████████████████████████████████▊                                                                                          | 62/223 [01:36<04:47,  1.78s/it]"
     ]
    },
    {
     "name": "stdout",
     "output_type": "stream",
     "text": [
      "xtick: 5\n",
      "ytick: 9\n",
      "7 7\n",
      "9 9\n",
      "removed contained: 9 9\n",
      "7 7\n",
      "removed contained: 7 7\n"
     ]
    },
    {
     "name": "stderr",
     "output_type": "stream",
     "text": [
      " 28%|███████████████████████████████████▎                                                                                         | 63/223 [01:38<04:50,  1.82s/it]"
     ]
    },
    {
     "name": "stdout",
     "output_type": "stream",
     "text": [
      "xtick: 7\n",
      "ytick: 9\n",
      "17 17\n",
      "12 12\n",
      "removed contained: 12 12\n",
      "7 7\n",
      "removed contained: 7 7\n"
     ]
    },
    {
     "name": "stderr",
     "output_type": "stream",
     "text": [
      " 29%|███████████████████████████████████▊                                                                                         | 64/223 [01:41<05:29,  2.07s/it]"
     ]
    },
    {
     "name": "stdout",
     "output_type": "stream",
     "text": [
      "xtick: 7\n",
      "ytick: 12\n",
      "12 12\n",
      "11 11\n",
      "removed contained: 11 11\n",
      "12 12\n",
      "removed contained: 12 12\n"
     ]
    },
    {
     "name": "stderr",
     "output_type": "stream",
     "text": [
      " 29%|████████████████████████████████████▍                                                                                        | 65/223 [01:43<05:42,  2.17s/it]"
     ]
    },
    {
     "name": "stdout",
     "output_type": "stream",
     "text": [
      "xtick: 12\n",
      "ytick: 11\n",
      "16 16\n",
      "11 11\n",
      "removed contained: 11 11\n",
      "17 17\n",
      "removed contained: 17 17\n"
     ]
    },
    {
     "name": "stderr",
     "output_type": "stream",
     "text": [
      " 30%|████████████████████████████████████▉                                                                                        | 66/223 [01:46<06:36,  2.52s/it]"
     ]
    },
    {
     "name": "stdout",
     "output_type": "stream",
     "text": [
      "xtick: 17\n",
      "ytick: 11\n",
      "5 5\n",
      "5 5\n",
      "removed contained: 5 5\n",
      "5 5\n",
      "removed contained: 5 5\n"
     ]
    },
    {
     "name": "stderr",
     "output_type": "stream",
     "text": [
      " 30%|█████████████████████████████████████▌                                                                                       | 67/223 [01:48<05:50,  2.24s/it]"
     ]
    },
    {
     "name": "stdout",
     "output_type": "stream",
     "text": [
      "xtick: 5\n",
      "ytick: 5\n",
      "5 5\n",
      "7 7\n",
      "removed contained: 7 7\n",
      "5 5\n",
      "removed contained: 5 5\n"
     ]
    },
    {
     "name": "stderr",
     "output_type": "stream",
     "text": [
      " 30%|██████████████████████████████████████                                                                                       | 68/223 [01:49<04:46,  1.85s/it]"
     ]
    },
    {
     "name": "stdout",
     "output_type": "stream",
     "text": [
      "xtick: 5\n",
      "ytick: 7\n",
      "4 4\n",
      "9 9\n",
      "removed contained: 9 9\n",
      "4 4\n",
      "removed contained: 4 4\n"
     ]
    },
    {
     "name": "stderr",
     "output_type": "stream",
     "text": [
      " 31%|██████████████████████████████████████▋                                                                                      | 69/223 [01:50<04:00,  1.56s/it]"
     ]
    },
    {
     "name": "stdout",
     "output_type": "stream",
     "text": [
      "xtick: 4\n",
      "ytick: 9\n",
      "9 9\n",
      "4 4\n",
      "removed contained: 4 4\n",
      "5 5\n",
      "removed contained: 5 5\n"
     ]
    },
    {
     "name": "stderr",
     "output_type": "stream",
     "text": [
      " 31%|███████████████████████████████████████▏                                                                                     | 70/223 [01:50<03:15,  1.28s/it]"
     ]
    },
    {
     "name": "stdout",
     "output_type": "stream",
     "text": [
      "xtick: 5\n",
      "ytick: 4\n",
      "5 5\n",
      "6 6\n",
      "removed contained: 6 6\n",
      "6 6\n",
      "removed contained: 6 6\n"
     ]
    },
    {
     "name": "stderr",
     "output_type": "stream",
     "text": [
      " 32%|███████████████████████████████████████▊                                                                                     | 71/223 [01:51<02:43,  1.08s/it]"
     ]
    },
    {
     "name": "stdout",
     "output_type": "stream",
     "text": [
      "xtick: 6\n",
      "ytick: 6\n",
      "5 5\n",
      "5 5\n",
      "removed contained: 5 5\n",
      "11 11\n",
      "removed contained: 11 11\n"
     ]
    },
    {
     "name": "stderr",
     "output_type": "stream",
     "text": [
      " 32%|████████████████████████████████████████▎                                                                                    | 72/223 [01:54<04:16,  1.70s/it]"
     ]
    },
    {
     "name": "stdout",
     "output_type": "stream",
     "text": [
      "xtick: 5\n",
      "ytick: 11\n",
      "5 5\n",
      "6 6\n",
      "removed contained: 6 6\n",
      "5 5\n",
      "removed contained: 5 5\n"
     ]
    },
    {
     "name": "stderr",
     "output_type": "stream",
     "text": [
      " 33%|████████████████████████████████████████▉                                                                                    | 73/223 [01:55<03:29,  1.40s/it]"
     ]
    },
    {
     "name": "stdout",
     "output_type": "stream",
     "text": [
      "xtick: 5\n",
      "ytick: 6\n",
      "14 14\n",
      "6 6\n",
      "removed contained: 6 6\n",
      "21 21\n",
      "removed contained: 21 21\n"
     ]
    },
    {
     "name": "stderr",
     "output_type": "stream",
     "text": [
      " 33%|█████████████████████████████████████████▍                                                                                   | 74/223 [01:58<04:49,  1.94s/it]"
     ]
    },
    {
     "name": "stdout",
     "output_type": "stream",
     "text": [
      "xtick: 21\n",
      "ytick: 6\n",
      "5 5\n",
      "10 10\n",
      "removed contained: 10 10\n",
      "5 5\n",
      "removed contained: 5 5\n"
     ]
    },
    {
     "name": "stderr",
     "output_type": "stream",
     "text": [
      " 34%|██████████████████████████████████████████                                                                                   | 75/223 [01:59<04:25,  1.79s/it]"
     ]
    },
    {
     "name": "stdout",
     "output_type": "stream",
     "text": [
      "xtick: 5\n",
      "ytick: 10\n",
      "28 28\n",
      "7 7\n",
      "removed contained: 7 7\n",
      "7 7\n",
      "removed contained: 7 7\n"
     ]
    },
    {
     "name": "stderr",
     "output_type": "stream",
     "text": [
      " 34%|██████████████████████████████████████████▌                                                                                  | 76/223 [02:01<04:16,  1.74s/it]"
     ]
    },
    {
     "name": "stdout",
     "output_type": "stream",
     "text": [
      "xtick: 7\n",
      "ytick: 7\n",
      "9 9\n",
      "10 10\n",
      "removed contained: 10 10\n",
      "7 7\n",
      "removed contained: 7 7\n"
     ]
    },
    {
     "name": "stderr",
     "output_type": "stream",
     "text": [
      " 35%|███████████████████████████████████████████▏                                                                                 | 77/223 [02:02<03:42,  1.53s/it]"
     ]
    },
    {
     "name": "stdout",
     "output_type": "stream",
     "text": [
      "xtick: 10\n",
      "ytick: 7\n",
      "2 2\n",
      "4 4\n",
      "removed contained: 4 4\n",
      "4 4\n",
      "removed contained: 4 4\n"
     ]
    },
    {
     "name": "stderr",
     "output_type": "stream",
     "text": [
      " 35%|███████████████████████████████████████████▋                                                                                 | 78/223 [02:03<02:58,  1.23s/it]"
     ]
    },
    {
     "name": "stdout",
     "output_type": "stream",
     "text": [
      "xtick: 4\n",
      "ytick: 4\n",
      "10 10\n",
      "11 11\n",
      "removed contained: 11 11\n",
      "16 16\n",
      "removed contained: 16 16\n"
     ]
    },
    {
     "name": "stderr",
     "output_type": "stream",
     "text": [
      " 35%|████████████████████████████████████████████▎                                                                                | 79/223 [02:05<03:52,  1.61s/it]"
     ]
    },
    {
     "name": "stdout",
     "output_type": "stream",
     "text": [
      "xtick: 16\n",
      "ytick: 11\n",
      "6 5\n",
      "8 8\n",
      "removed contained: 8 8\n",
      "5 5\n",
      "removed contained: 5 5\n"
     ]
    },
    {
     "name": "stderr",
     "output_type": "stream",
     "text": [
      " 36%|████████████████████████████████████████████▊                                                                                | 80/223 [02:06<03:10,  1.33s/it]"
     ]
    },
    {
     "name": "stdout",
     "output_type": "stream",
     "text": [
      "xtick: 5\n",
      "ytick: 8\n",
      "13 13\n",
      "5 5\n",
      "removed contained: 5 5\n",
      "5 4\n",
      "removed contained: 4 4\n"
     ]
    },
    {
     "name": "stderr",
     "output_type": "stream",
     "text": [
      " 36%|█████████████████████████████████████████████▍                                                                               | 81/223 [02:06<02:35,  1.09s/it]"
     ]
    },
    {
     "name": "stdout",
     "output_type": "stream",
     "text": [
      "xtick: 4\n",
      "ytick: 5\n",
      "21 21\n",
      "5 5\n",
      "removed contained: 5 5\n",
      "18 18\n",
      "removed contained: 18 18\n"
     ]
    },
    {
     "name": "stderr",
     "output_type": "stream",
     "text": [
      " 37%|█████████████████████████████████████████████▉                                                                               | 82/223 [02:08<03:15,  1.39s/it]"
     ]
    },
    {
     "name": "stdout",
     "output_type": "stream",
     "text": [
      "xtick: 18\n",
      "ytick: 5\n",
      "9 9\n",
      "6 6\n",
      "removed contained: 6 6\n",
      "14 14\n",
      "removed contained: 14 14\n"
     ]
    },
    {
     "name": "stderr",
     "output_type": "stream",
     "text": [
      " 37%|██████████████████████████████████████████████▌                                                                              | 83/223 [02:10<03:25,  1.47s/it]"
     ]
    },
    {
     "name": "stdout",
     "output_type": "stream",
     "text": [
      "xtick: 14\n",
      "ytick: 6\n",
      "3 3\n",
      "8 8\n",
      "removed contained: 8 8\n",
      "5 5\n",
      "removed contained: 5 5\n"
     ]
    },
    {
     "name": "stderr",
     "output_type": "stream",
     "text": [
      " 38%|███████████████████████████████████████████████                                                                              | 84/223 [02:12<03:41,  1.59s/it]"
     ]
    },
    {
     "name": "stdout",
     "output_type": "stream",
     "text": [
      "xtick: 5\n",
      "ytick: 8\n",
      "10 10\n",
      "6 6\n",
      "removed contained: 6 6\n",
      "11 11\n",
      "removed contained: 11 11\n"
     ]
    },
    {
     "name": "stderr",
     "output_type": "stream",
     "text": [
      " 38%|███████████████████████████████████████████████▋                                                                             | 85/223 [02:13<03:13,  1.40s/it]"
     ]
    },
    {
     "name": "stdout",
     "output_type": "stream",
     "text": [
      "xtick: 11\n",
      "ytick: 6\n",
      "10 10\n",
      "9 9\n",
      "removed contained: 9 9\n",
      "11 11\n",
      "removed contained: 11 11\n"
     ]
    },
    {
     "name": "stderr",
     "output_type": "stream",
     "text": [
      " 39%|████████████████████████████████████████████████▏                                                                            | 86/223 [02:16<04:07,  1.81s/it]"
     ]
    },
    {
     "name": "stdout",
     "output_type": "stream",
     "text": [
      "xtick: 11\n",
      "ytick: 9\n",
      "8 8\n",
      "10 5\n",
      "removed contained: 5 5\n",
      "10 10\n",
      "removed contained: 9 10\n"
     ]
    },
    {
     "name": "stderr",
     "output_type": "stream",
     "text": [
      " 39%|████████████████████████████████████████████████▊                                                                            | 87/223 [02:17<03:34,  1.58s/it]"
     ]
    },
    {
     "name": "stdout",
     "output_type": "stream",
     "text": [
      "xtick: 9\n",
      "ytick: 5\n",
      "6 6\n",
      "4 3\n",
      "removed contained: 3 3\n",
      "6 6\n",
      "removed contained: 6 6\n"
     ]
    },
    {
     "name": "stderr",
     "output_type": "stream",
     "text": [
      " 39%|█████████████████████████████████████████████████▎                                                                           | 88/223 [02:18<03:25,  1.52s/it]"
     ]
    },
    {
     "name": "stdout",
     "output_type": "stream",
     "text": [
      "xtick: 6\n",
      "ytick: 3\n",
      "12 12\n",
      "12 12\n",
      "removed contained: 12 12\n",
      "8 8\n",
      "removed contained: 8 8\n"
     ]
    },
    {
     "name": "stderr",
     "output_type": "stream",
     "text": [
      " 40%|█████████████████████████████████████████████████▉                                                                           | 89/223 [02:20<03:23,  1.52s/it]"
     ]
    },
    {
     "name": "stdout",
     "output_type": "stream",
     "text": [
      "xtick: 12\n",
      "ytick: 8\n",
      "6 6\n",
      "10 10\n",
      "removed contained: 10 10\n",
      "6 6\n",
      "removed contained: 6 6\n"
     ]
    },
    {
     "name": "stderr",
     "output_type": "stream",
     "text": [
      " 40%|██████████████████████████████████████████████████▍                                                                          | 90/223 [02:22<03:51,  1.74s/it]"
     ]
    },
    {
     "name": "stdout",
     "output_type": "stream",
     "text": [
      "xtick: 6\n",
      "ytick: 10\n",
      "20 20\n",
      "6 6\n",
      "removed contained: 6 6\n",
      "20 20\n",
      "removed contained: 20 20\n"
     ]
    },
    {
     "name": "stderr",
     "output_type": "stream",
     "text": [
      " 41%|███████████████████████████████████████████████████                                                                          | 91/223 [02:24<03:56,  1.79s/it]"
     ]
    },
    {
     "name": "stdout",
     "output_type": "stream",
     "text": [
      "xtick: 20\n",
      "ytick: 6\n",
      "5 5\n",
      "5 5\n",
      "removed contained: 5 5\n",
      "5 5\n",
      "removed contained: 5 5\n"
     ]
    },
    {
     "name": "stderr",
     "output_type": "stream",
     "text": [
      " 41%|███████████████████████████████████████████████████▌                                                                         | 92/223 [02:24<03:09,  1.45s/it]"
     ]
    },
    {
     "name": "stdout",
     "output_type": "stream",
     "text": [
      "xtick: 5\n",
      "ytick: 5\n",
      "13 11\n",
      "7 7\n",
      "removed contained: 7 7\n",
      "11 11\n",
      "removed contained: 11 11\n"
     ]
    },
    {
     "name": "stderr",
     "output_type": "stream",
     "text": [
      " 42%|████████████████████████████████████████████████████▏                                                                        | 93/223 [02:27<03:48,  1.76s/it]"
     ]
    },
    {
     "name": "stdout",
     "output_type": "stream",
     "text": [
      "xtick: 11\n",
      "ytick: 7\n",
      "1 1\n",
      "8 8\n",
      "removed contained: 8 8\n",
      "5 5\n",
      "removed contained: 5 5\n"
     ]
    },
    {
     "name": "stderr",
     "output_type": "stream",
     "text": [
      " 42%|████████████████████████████████████████████████████▋                                                                        | 94/223 [02:28<03:16,  1.52s/it]"
     ]
    },
    {
     "name": "stdout",
     "output_type": "stream",
     "text": [
      "xtick: 5\n",
      "ytick: 8\n",
      "6 6\n",
      "6 6\n",
      "removed contained: 6 6\n",
      "4 4\n",
      "removed contained: 4 4\n"
     ]
    },
    {
     "name": "stderr",
     "output_type": "stream",
     "text": [
      " 43%|█████████████████████████████████████████████████████▎                                                                       | 95/223 [02:30<03:49,  1.79s/it]"
     ]
    },
    {
     "name": "stdout",
     "output_type": "stream",
     "text": [
      "xtick: 4\n",
      "ytick: 6\n",
      "8 8\n",
      "8 8\n",
      "removed contained: 8 8\n",
      "8 8\n",
      "removed contained: 8 8\n"
     ]
    },
    {
     "name": "stderr",
     "output_type": "stream",
     "text": [
      " 43%|█████████████████████████████████████████████████████▊                                                                       | 96/223 [02:32<03:33,  1.68s/it]"
     ]
    },
    {
     "name": "stdout",
     "output_type": "stream",
     "text": [
      "xtick: 8\n",
      "ytick: 8\n",
      "10 10\n",
      "6 6\n",
      "removed contained: 6 6\n",
      "10 10\n",
      "removed contained: 10 10\n"
     ]
    },
    {
     "name": "stderr",
     "output_type": "stream",
     "text": [
      " 43%|██████████████████████████████████████████████████████▎                                                                      | 97/223 [02:34<04:01,  1.92s/it]"
     ]
    },
    {
     "name": "stdout",
     "output_type": "stream",
     "text": [
      "xtick: 10\n",
      "ytick: 6\n",
      "9 9\n",
      "7 7\n",
      "removed contained: 7 7\n",
      "6 6\n",
      "removed contained: 6 6\n"
     ]
    },
    {
     "name": "stderr",
     "output_type": "stream",
     "text": [
      " 44%|██████████████████████████████████████████████████████▉                                                                      | 98/223 [02:35<03:16,  1.57s/it]"
     ]
    },
    {
     "name": "stdout",
     "output_type": "stream",
     "text": [
      "xtick: 6\n",
      "ytick: 7\n",
      "4 4\n",
      "8 8\n",
      "removed contained: 8 8\n",
      "5 5\n",
      "removed contained: 5 5\n"
     ]
    },
    {
     "name": "stderr",
     "output_type": "stream",
     "text": [
      " 44%|███████████████████████████████████████████████████████▍                                                                     | 99/223 [02:37<03:15,  1.58s/it]"
     ]
    },
    {
     "name": "stdout",
     "output_type": "stream",
     "text": [
      "xtick: 5\n",
      "ytick: 8\n",
      "17 17\n",
      "8 8\n",
      "removed contained: 8 8\n",
      "17 17\n",
      "removed contained: 17 17\n"
     ]
    },
    {
     "name": "stderr",
     "output_type": "stream",
     "text": [
      " 45%|███████████████████████████████████████████████████████▌                                                                    | 100/223 [02:39<03:40,  1.79s/it]"
     ]
    },
    {
     "name": "stdout",
     "output_type": "stream",
     "text": [
      "xtick: 17\n",
      "ytick: 8\n",
      "2 2\n",
      "10 5\n",
      "removed contained: 5 5\n",
      "3 3\n",
      "removed contained: 3 3\n"
     ]
    },
    {
     "name": "stderr",
     "output_type": "stream",
     "text": [
      " 45%|████████████████████████████████████████████████████████▏                                                                   | 101/223 [02:40<03:02,  1.49s/it]"
     ]
    },
    {
     "name": "stdout",
     "output_type": "stream",
     "text": [
      "xtick: 3\n",
      "ytick: 5\n",
      "6 6\n",
      "6 6\n",
      "removed contained: 6 6\n",
      "5 5\n",
      "removed contained: 5 5\n"
     ]
    },
    {
     "name": "stderr",
     "output_type": "stream",
     "text": [
      " 46%|████████████████████████████████████████████████████████▋                                                                   | 102/223 [02:40<02:26,  1.21s/it]"
     ]
    },
    {
     "name": "stdout",
     "output_type": "stream",
     "text": [
      "xtick: 5\n",
      "ytick: 6\n",
      "4 4\n",
      "6 6\n",
      "removed contained: 6 6\n",
      "4 4\n",
      "removed contained: 4 4\n"
     ]
    },
    {
     "name": "stderr",
     "output_type": "stream",
     "text": [
      " 46%|█████████████████████████████████████████████████████████▎                                                                  | 103/223 [02:41<02:00,  1.00s/it]"
     ]
    },
    {
     "name": "stdout",
     "output_type": "stream",
     "text": [
      "xtick: 4\n",
      "ytick: 6\n",
      "4 4\n",
      "4 4\n",
      "removed contained: 4 4\n",
      "7 7\n",
      "removed contained: 7 7\n"
     ]
    },
    {
     "name": "stderr",
     "output_type": "stream",
     "text": [
      " 47%|█████████████████████████████████████████████████████████▊                                                                  | 104/223 [02:42<02:25,  1.23s/it]"
     ]
    },
    {
     "name": "stdout",
     "output_type": "stream",
     "text": [
      "xtick: 7\n",
      "ytick: 4\n",
      "4 4\n",
      "4 4\n",
      "removed contained: 4 4\n",
      "10 10\n",
      "removed contained: 10 10\n"
     ]
    },
    {
     "name": "stderr",
     "output_type": "stream",
     "text": [
      " 47%|██████████████████████████████████████████████████████████▍                                                                 | 105/223 [02:44<02:32,  1.29s/it]"
     ]
    },
    {
     "name": "stdout",
     "output_type": "stream",
     "text": [
      "xtick: 4\n",
      "ytick: 10\n",
      "8 8\n",
      "11 11\n",
      "removed contained: 11 11\n",
      "8 8\n",
      "removed contained: 8 8\n"
     ]
    },
    {
     "name": "stderr",
     "output_type": "stream",
     "text": [
      " 48%|██████████████████████████████████████████████████████████▉                                                                 | 106/223 [02:46<02:51,  1.47s/it]"
     ]
    },
    {
     "name": "stdout",
     "output_type": "stream",
     "text": [
      "xtick: 8\n",
      "ytick: 11\n",
      "7 7\n",
      "6 6\n",
      "removed contained: 6 6\n",
      "8 8\n",
      "removed contained: 8 8\n"
     ]
    },
    {
     "name": "stderr",
     "output_type": "stream",
     "text": [
      " 48%|███████████████████████████████████████████████████████████▍                                                                | 107/223 [02:47<02:25,  1.25s/it]"
     ]
    },
    {
     "name": "stdout",
     "output_type": "stream",
     "text": [
      "xtick: 8\n",
      "ytick: 6\n",
      "20 20\n",
      "14 14\n",
      "removed contained: 14 14\n",
      "17 17\n",
      "removed contained: 17 17\n"
     ]
    },
    {
     "name": "stderr",
     "output_type": "stream",
     "text": [
      " 48%|████████████████████████████████████████████████████████████                                                                | 108/223 [02:49<03:19,  1.74s/it]"
     ]
    },
    {
     "name": "stdout",
     "output_type": "stream",
     "text": [
      "xtick: 17\n",
      "ytick: 14\n",
      "3 3\n",
      "8 8\n",
      "removed contained: 8 8\n",
      "5 5\n",
      "removed contained: 5 5\n"
     ]
    },
    {
     "name": "stderr",
     "output_type": "stream",
     "text": [
      " 49%|████████████████████████████████████████████████████████████▌                                                               | 109/223 [02:51<03:15,  1.71s/it]"
     ]
    },
    {
     "name": "stdout",
     "output_type": "stream",
     "text": [
      "xtick: 5\n",
      "ytick: 8\n",
      "5 5\n",
      "6 6\n",
      "removed contained: 6 6\n",
      "5 5\n",
      "removed contained: 5 5\n"
     ]
    },
    {
     "name": "stderr",
     "output_type": "stream",
     "text": [
      " 49%|█████████████████████████████████████████████████████████████▏                                                              | 110/223 [02:52<02:39,  1.41s/it]"
     ]
    },
    {
     "name": "stdout",
     "output_type": "stream",
     "text": [
      "xtick: 5\n",
      "ytick: 6\n",
      "3 3\n",
      "7 7\n",
      "removed contained: 7 7\n",
      "3 3\n",
      "removed contained: 3 3\n"
     ]
    },
    {
     "name": "stderr",
     "output_type": "stream",
     "text": [
      " 50%|█████████████████████████████████████████████████████████████▋                                                              | 111/223 [02:52<02:10,  1.17s/it]"
     ]
    },
    {
     "name": "stdout",
     "output_type": "stream",
     "text": [
      "xtick: 3\n",
      "ytick: 7\n",
      "10 10\n",
      "7 7\n",
      "removed contained: 7 7\n",
      "10 10\n",
      "removed contained: 10 10\n"
     ]
    },
    {
     "name": "stderr",
     "output_type": "stream",
     "text": [
      " 50%|██████████████████████████████████████████████████████████████▎                                                             | 112/223 [02:54<02:15,  1.22s/it]"
     ]
    },
    {
     "name": "stdout",
     "output_type": "stream",
     "text": [
      "xtick: 10\n",
      "ytick: 7\n",
      "10 10\n",
      "5 5\n",
      "removed contained: 5 5\n",
      "5 5\n",
      "removed contained: 5 5\n"
     ]
    },
    {
     "name": "stderr",
     "output_type": "stream",
     "text": [
      " 51%|██████████████████████████████████████████████████████████████▊                                                             | 113/223 [02:55<02:05,  1.14s/it]"
     ]
    },
    {
     "name": "stdout",
     "output_type": "stream",
     "text": [
      "xtick: 5\n",
      "ytick: 5\n",
      "4 3\n",
      "9 9\n",
      "removed contained: 9 9\n",
      "2 2\n",
      "removed contained: 2 2\n"
     ]
    },
    {
     "name": "stderr",
     "output_type": "stream",
     "text": [
      " 51%|███████████████████████████████████████████████████████████████▍                                                            | 114/223 [02:55<01:47,  1.01it/s]"
     ]
    },
    {
     "name": "stdout",
     "output_type": "stream",
     "text": [
      "xtick: 2\n",
      "ytick: 9\n",
      "12 12\n",
      "6 6\n",
      "removed contained: 6 6\n",
      "12 12\n",
      "removed contained: 12 12\n"
     ]
    },
    {
     "name": "stderr",
     "output_type": "stream",
     "text": [
      " 52%|███████████████████████████████████████████████████████████████▉                                                            | 115/223 [02:57<02:10,  1.21s/it]"
     ]
    },
    {
     "name": "stdout",
     "output_type": "stream",
     "text": [
      "xtick: 12\n",
      "ytick: 6\n",
      "7 7\n",
      "10 10\n",
      "removed contained: 10 10\n",
      "8 7\n",
      "removed contained: 7 7\n"
     ]
    },
    {
     "name": "stderr",
     "output_type": "stream",
     "text": [
      " 52%|████████████████████████████████████████████████████████████████▌                                                           | 116/223 [02:58<01:58,  1.11s/it]"
     ]
    },
    {
     "name": "stdout",
     "output_type": "stream",
     "text": [
      "xtick: 7\n",
      "ytick: 10\n",
      "10 10\n",
      "5 5\n",
      "removed contained: 5 5\n",
      "10 10\n",
      "removed contained: 10 10\n"
     ]
    },
    {
     "name": "stderr",
     "output_type": "stream",
     "text": [
      " 52%|█████████████████████████████████████████████████████████████████                                                           | 117/223 [03:00<02:16,  1.29s/it]"
     ]
    },
    {
     "name": "stdout",
     "output_type": "stream",
     "text": [
      "xtick: 10\n",
      "ytick: 5\n",
      "5 5\n",
      "6 6\n",
      "removed contained: 6 6\n",
      "6 6\n",
      "removed contained: 6 6\n"
     ]
    },
    {
     "name": "stderr",
     "output_type": "stream",
     "text": [
      " 53%|█████████████████████████████████████████████████████████████████▌                                                          | 118/223 [03:00<01:54,  1.09s/it]"
     ]
    },
    {
     "name": "stdout",
     "output_type": "stream",
     "text": [
      "xtick: 6\n",
      "ytick: 6\n",
      "6 6\n",
      "8 8\n",
      "removed contained: 8 8\n",
      "6 6\n",
      "removed contained: 6 6\n"
     ]
    },
    {
     "name": "stderr",
     "output_type": "stream",
     "text": [
      " 53%|██████████████████████████████████████████████████████████████████▏                                                         | 119/223 [03:02<02:19,  1.34s/it]"
     ]
    },
    {
     "name": "stdout",
     "output_type": "stream",
     "text": [
      "xtick: 6\n",
      "ytick: 8\n",
      "6 6\n",
      "9 9\n",
      "removed contained: 9 9\n",
      "6 6\n",
      "removed contained: 6 6\n"
     ]
    },
    {
     "name": "stderr",
     "output_type": "stream",
     "text": [
      " 54%|██████████████████████████████████████████████████████████████████▋                                                         | 120/223 [03:04<02:44,  1.60s/it]"
     ]
    },
    {
     "name": "stdout",
     "output_type": "stream",
     "text": [
      "xtick: 6\n",
      "ytick: 9\n",
      "9 9\n",
      "6 6\n",
      "removed contained: 6 6\n",
      "9 9\n",
      "removed contained: 9 9\n"
     ]
    },
    {
     "name": "stderr",
     "output_type": "stream",
     "text": [
      " 54%|███████████████████████████████████████████████████████████████████▎                                                        | 121/223 [03:05<02:17,  1.35s/it]"
     ]
    },
    {
     "name": "stdout",
     "output_type": "stream",
     "text": [
      "xtick: 9\n",
      "ytick: 6\n",
      "7 7\n",
      "5 5\n",
      "removed contained: 5 5\n",
      "7 7\n",
      "removed contained: 7 7\n"
     ]
    },
    {
     "name": "stderr",
     "output_type": "stream",
     "text": [
      " 55%|███████████████████████████████████████████████████████████████████▊                                                        | 122/223 [03:07<02:33,  1.52s/it]"
     ]
    },
    {
     "name": "stdout",
     "output_type": "stream",
     "text": [
      "xtick: 7\n",
      "ytick: 5\n",
      "10 10\n",
      "7 7\n",
      "removed contained: 7 7\n",
      "10 10\n",
      "removed contained: 10 10\n"
     ]
    },
    {
     "name": "stderr",
     "output_type": "stream",
     "text": [
      " 55%|████████████████████████████████████████████████████████████████████▍                                                       | 123/223 [03:08<02:17,  1.38s/it]"
     ]
    },
    {
     "name": "stdout",
     "output_type": "stream",
     "text": [
      "xtick: 10\n",
      "ytick: 7\n",
      "10 10\n",
      "10 10\n",
      "removed contained: 10 10\n",
      "11 11\n",
      "removed contained: 11 11\n"
     ]
    },
    {
     "name": "stderr",
     "output_type": "stream",
     "text": [
      " 56%|████████████████████████████████████████████████████████████████████▉                                                       | 124/223 [03:11<02:51,  1.73s/it]"
     ]
    },
    {
     "name": "stdout",
     "output_type": "stream",
     "text": [
      "xtick: 11\n",
      "ytick: 10\n",
      "3 3\n",
      "8 8\n",
      "removed contained: 8 8\n",
      "5 5\n",
      "removed contained: 5 5\n"
     ]
    },
    {
     "name": "stderr",
     "output_type": "stream",
     "text": [
      " 56%|█████████████████████████████████████████████████████████████████████▌                                                      | 125/223 [03:13<02:56,  1.80s/it]"
     ]
    },
    {
     "name": "stdout",
     "output_type": "stream",
     "text": [
      "xtick: 5\n",
      "ytick: 8\n",
      "12 12\n",
      "5 5\n",
      "removed contained: 5 5\n",
      "8 8\n",
      "removed contained: 8 8\n"
     ]
    },
    {
     "name": "stderr",
     "output_type": "stream",
     "text": [
      " 57%|██████████████████████████████████████████████████████████████████████                                                      | 126/223 [03:14<02:40,  1.66s/it]"
     ]
    },
    {
     "name": "stdout",
     "output_type": "stream",
     "text": [
      "xtick: 8\n",
      "ytick: 5\n",
      "5 5\n",
      "6 6\n",
      "removed contained: 6 6\n",
      "5 5\n",
      "removed contained: 5 5\n"
     ]
    },
    {
     "name": "stderr",
     "output_type": "stream",
     "text": [
      " 57%|██████████████████████████████████████████████████████████████████████▌                                                     | 127/223 [03:15<02:12,  1.38s/it]"
     ]
    },
    {
     "name": "stdout",
     "output_type": "stream",
     "text": [
      "xtick: 5\n",
      "ytick: 6\n",
      "10 10\n",
      "5 5\n",
      "removed contained: 5 5\n",
      "11 11\n",
      "removed contained: 11 11\n"
     ]
    },
    {
     "name": "stderr",
     "output_type": "stream",
     "text": [
      " 57%|███████████████████████████████████████████████████████████████████████▏                                                    | 128/223 [03:16<01:55,  1.21s/it]"
     ]
    },
    {
     "name": "stdout",
     "output_type": "stream",
     "text": [
      "xtick: 11\n",
      "ytick: 5\n",
      "11 11\n",
      "4 4\n",
      "removed contained: 4 4\n",
      "10 10\n",
      "removed contained: 10 10\n"
     ]
    },
    {
     "name": "stderr",
     "output_type": "stream",
     "text": [
      " 58%|███████████████████████████████████████████████████████████████████████▋                                                    | 129/223 [03:16<01:46,  1.13s/it]"
     ]
    },
    {
     "name": "stdout",
     "output_type": "stream",
     "text": [
      "xtick: 10\n",
      "ytick: 4\n",
      "16 16\n",
      "10 10\n",
      "removed contained: 10 10\n",
      "18 18\n",
      "removed contained: 18 18\n"
     ]
    },
    {
     "name": "stderr",
     "output_type": "stream",
     "text": [
      " 58%|████████████████████████████████████████████████████████████████████████▎                                                   | 130/223 [03:18<02:01,  1.31s/it]"
     ]
    },
    {
     "name": "stdout",
     "output_type": "stream",
     "text": [
      "xtick: 18\n",
      "ytick: 10\n",
      "10 10\n",
      "11 11\n",
      "removed contained: 11 11\n",
      "10 10\n",
      "removed contained: 10 10\n"
     ]
    },
    {
     "name": "stderr",
     "output_type": "stream",
     "text": [
      " 59%|████████████████████████████████████████████████████████████████████████▊                                                   | 131/223 [03:20<02:21,  1.54s/it]"
     ]
    },
    {
     "name": "stdout",
     "output_type": "stream",
     "text": [
      "xtick: 10\n",
      "ytick: 11\n",
      "7 7\n",
      "10 5\n",
      "removed contained: 5 5\n",
      "10 10\n",
      "removed contained: 10 10\n"
     ]
    },
    {
     "name": "stderr",
     "output_type": "stream",
     "text": [
      " 59%|█████████████████████████████████████████████████████████████████████████▍                                                  | 132/223 [03:22<02:21,  1.56s/it]"
     ]
    },
    {
     "name": "stdout",
     "output_type": "stream",
     "text": [
      "xtick: 10\n",
      "ytick: 5\n",
      "9 9\n",
      "11 10\n",
      "removed contained: 10 10\n",
      "6 6\n",
      "removed contained: 6 6\n"
     ]
    },
    {
     "name": "stderr",
     "output_type": "stream",
     "text": [
      " 60%|█████████████████████████████████████████████████████████████████████████▉                                                  | 133/223 [03:23<02:20,  1.56s/it]"
     ]
    },
    {
     "name": "stdout",
     "output_type": "stream",
     "text": [
      "xtick: 10\n",
      "ytick: 6\n",
      "11 11\n",
      "8 8\n",
      "removed contained: 8 8\n",
      "6 6\n",
      "removed contained: 6 6\n"
     ]
    },
    {
     "name": "stderr",
     "output_type": "stream",
     "text": [
      " 60%|██████████████████████████████████████████████████████████████████████████▌                                                 | 134/223 [03:25<02:21,  1.59s/it]"
     ]
    },
    {
     "name": "stdout",
     "output_type": "stream",
     "text": [
      "xtick: 6\n",
      "ytick: 8\n",
      "8 8\n",
      "8 8\n",
      "removed contained: 8 8\n",
      "7 7\n",
      "removed contained: 7 7\n"
     ]
    },
    {
     "name": "stderr",
     "output_type": "stream",
     "text": [
      " 61%|███████████████████████████████████████████████████████████████████████████                                                 | 135/223 [03:27<02:19,  1.58s/it]"
     ]
    },
    {
     "name": "stdout",
     "output_type": "stream",
     "text": [
      "xtick: 7\n",
      "ytick: 8\n",
      "8 8\n",
      "4 4\n",
      "removed contained: 4 4\n",
      "5 5\n",
      "removed contained: 5 5\n"
     ]
    },
    {
     "name": "stderr",
     "output_type": "stream",
     "text": [
      " 61%|███████████████████████████████████████████████████████████████████████████▌                                                | 136/223 [03:27<01:50,  1.27s/it]"
     ]
    },
    {
     "name": "stdout",
     "output_type": "stream",
     "text": [
      "xtick: 5\n",
      "ytick: 4\n",
      "0 0\n",
      "4 4\n",
      "removed contained: 4 4\n",
      "4 4\n",
      "removed contained: 4 4\n"
     ]
    },
    {
     "name": "stderr",
     "output_type": "stream",
     "text": [
      " 61%|████████████████████████████████████████████████████████████████████████████▏                                               | 137/223 [03:28<01:36,  1.12s/it]"
     ]
    },
    {
     "name": "stdout",
     "output_type": "stream",
     "text": [
      "xtick: 4\n",
      "ytick: 4\n",
      "Error\n",
      "8 8\n",
      "7 7\n",
      "removed contained: 7 7\n",
      "8 8\n",
      "removed contained: 8 8\n"
     ]
    },
    {
     "name": "stderr",
     "output_type": "stream",
     "text": [
      " 62%|████████████████████████████████████████████████████████████████████████████▋                                               | 138/223 [03:30<01:49,  1.29s/it]"
     ]
    },
    {
     "name": "stdout",
     "output_type": "stream",
     "text": [
      "xtick: 8\n",
      "ytick: 7\n",
      "10 10\n",
      "7 7\n",
      "removed contained: 7 7\n",
      "10 10\n",
      "removed contained: 10 10\n"
     ]
    },
    {
     "name": "stderr",
     "output_type": "stream",
     "text": [
      " 62%|█████████████████████████████████████████████████████████████████████████████▎                                              | 139/223 [03:31<01:50,  1.32s/it]"
     ]
    },
    {
     "name": "stdout",
     "output_type": "stream",
     "text": [
      "xtick: 10\n",
      "ytick: 7\n",
      "8 8\n",
      "5 5\n",
      "removed contained: 5 5\n",
      "8 8\n",
      "removed contained: 8 8\n"
     ]
    },
    {
     "name": "stderr",
     "output_type": "stream",
     "text": [
      " 63%|█████████████████████████████████████████████████████████████████████████████▊                                              | 140/223 [03:32<01:40,  1.21s/it]"
     ]
    },
    {
     "name": "stdout",
     "output_type": "stream",
     "text": [
      "xtick: 8\n",
      "ytick: 5\n",
      "3 3\n",
      "10 10\n",
      "removed contained: 10 10\n",
      "3 3\n",
      "removed contained: 3 3\n"
     ]
    },
    {
     "name": "stderr",
     "output_type": "stream",
     "text": [
      " 63%|██████████████████████████████████████████████████████████████████████████████▍                                             | 141/223 [03:33<01:29,  1.09s/it]"
     ]
    },
    {
     "name": "stdout",
     "output_type": "stream",
     "text": [
      "xtick: 3\n",
      "ytick: 10\n",
      "94 94\n",
      "6 6\n",
      "removed contained: 6 6\n",
      "8 8\n",
      "removed contained: 8 8\n"
     ]
    },
    {
     "name": "stderr",
     "output_type": "stream",
     "text": [
      " 64%|██████████████████████████████████████████████████████████████████████████████▉                                             | 142/223 [03:34<01:24,  1.04s/it]"
     ]
    },
    {
     "name": "stdout",
     "output_type": "stream",
     "text": [
      "xtick: 8\n",
      "ytick: 6\n",
      "8 8\n",
      "7 7\n",
      "removed contained: 7 7\n",
      "6 6\n",
      "removed contained: 6 6\n"
     ]
    },
    {
     "name": "stderr",
     "output_type": "stream",
     "text": [
      " 64%|███████████████████████████████████████████████████████████████████████████████▌                                            | 143/223 [03:34<01:15,  1.06it/s]"
     ]
    },
    {
     "name": "stdout",
     "output_type": "stream",
     "text": [
      "xtick: 6\n",
      "ytick: 7\n",
      "1 1\n",
      "7 7\n",
      "removed contained: 7 7\n",
      "34 34\n",
      "removed contained: 34 34\n"
     ]
    },
    {
     "name": "stderr",
     "output_type": "stream",
     "text": [
      " 65%|████████████████████████████████████████████████████████████████████████████████                                            | 144/223 [03:38<02:18,  1.75s/it]"
     ]
    },
    {
     "name": "stdout",
     "output_type": "stream",
     "text": [
      "xtick: 34\n",
      "ytick: 7\n",
      "8 8\n",
      "5 5\n",
      "removed contained: 5 5\n",
      "8 8\n",
      "removed contained: 8 8\n"
     ]
    },
    {
     "name": "stderr",
     "output_type": "stream",
     "text": [
      " 65%|████████████████████████████████████████████████████████████████████████████████▋                                           | 145/223 [03:39<01:51,  1.43s/it]"
     ]
    },
    {
     "name": "stdout",
     "output_type": "stream",
     "text": [
      "xtick: 8\n",
      "ytick: 5\n",
      "4 4\n",
      "8 8\n",
      "removed contained: 8 8\n",
      "4 4\n",
      "removed contained: 4 4\n"
     ]
    },
    {
     "name": "stderr",
     "output_type": "stream",
     "text": [
      " 65%|█████████████████████████████████████████████████████████████████████████████████▏                                          | 146/223 [03:40<01:37,  1.27s/it]"
     ]
    },
    {
     "name": "stdout",
     "output_type": "stream",
     "text": [
      "xtick: 4\n",
      "ytick: 8\n",
      "26 26\n",
      "9 9\n",
      "removed contained: 9 9\n",
      "26 26\n",
      "removed contained: 26 26\n"
     ]
    },
    {
     "name": "stderr",
     "output_type": "stream",
     "text": [
      " 66%|█████████████████████████████████████████████████████████████████████████████████▋                                          | 147/223 [03:42<02:10,  1.71s/it]"
     ]
    },
    {
     "name": "stdout",
     "output_type": "stream",
     "text": [
      "xtick: 26\n",
      "ytick: 9\n",
      "3 3\n",
      "7 7\n",
      "removed contained: 7 7\n",
      "10 10\n",
      "removed contained: 10 10\n"
     ]
    },
    {
     "name": "stderr",
     "output_type": "stream",
     "text": [
      " 66%|██████████████████████████████████████████████████████████████████████████████████▎                                         | 148/223 [03:44<02:12,  1.76s/it]"
     ]
    },
    {
     "name": "stdout",
     "output_type": "stream",
     "text": [
      "xtick: 10\n",
      "ytick: 7\n",
      "3 3\n",
      "8 8\n",
      "removed contained: 8 8\n",
      "7 7\n",
      "removed contained: 7 7\n"
     ]
    },
    {
     "name": "stderr",
     "output_type": "stream",
     "text": [
      " 67%|██████████████████████████████████████████████████████████████████████████████████▊                                         | 149/223 [03:45<01:57,  1.59s/it]"
     ]
    },
    {
     "name": "stdout",
     "output_type": "stream",
     "text": [
      "xtick: 7\n",
      "ytick: 8\n",
      "28 28\n",
      "9 9\n",
      "removed contained: 9 9\n",
      "37 37\n",
      "removed contained: 37 37\n"
     ]
    },
    {
     "name": "stderr",
     "output_type": "stream",
     "text": [
      " 67%|███████████████████████████████████████████████████████████████████████████████████▍                                        | 150/223 [03:50<02:55,  2.41s/it]"
     ]
    },
    {
     "name": "stdout",
     "output_type": "stream",
     "text": [
      "xtick: 37\n",
      "ytick: 9\n",
      "3 3\n",
      "8 8\n",
      "removed contained: 8 8\n",
      "5 5\n",
      "removed contained: 5 5\n"
     ]
    },
    {
     "name": "stderr",
     "output_type": "stream",
     "text": [
      " 68%|███████████████████████████████████████████████████████████████████████████████████▉                                        | 151/223 [03:51<02:32,  2.12s/it]"
     ]
    },
    {
     "name": "stdout",
     "output_type": "stream",
     "text": [
      "xtick: 5\n",
      "ytick: 8\n",
      "9 9\n",
      "6 6\n",
      "removed contained: 6 6\n",
      "7 7\n",
      "removed contained: 7 7\n"
     ]
    },
    {
     "name": "stderr",
     "output_type": "stream",
     "text": [
      " 68%|████████████████████████████████████████████████████████████████████████████████████▌                                       | 152/223 [03:52<01:59,  1.68s/it]"
     ]
    },
    {
     "name": "stdout",
     "output_type": "stream",
     "text": [
      "xtick: 7\n",
      "ytick: 6\n",
      "7 6\n",
      "5 5\n",
      "removed contained: 5 5\n",
      "6 6\n",
      "removed contained: 6 6\n"
     ]
    },
    {
     "name": "stderr",
     "output_type": "stream",
     "text": [
      " 69%|█████████████████████████████████████████████████████████████████████████████████████                                       | 153/223 [03:53<01:40,  1.43s/it]"
     ]
    },
    {
     "name": "stdout",
     "output_type": "stream",
     "text": [
      "xtick: 6\n",
      "ytick: 5\n",
      "12 12\n",
      "11 11\n",
      "removed contained: 11 11\n",
      "12 12\n",
      "removed contained: 12 12\n"
     ]
    },
    {
     "name": "stderr",
     "output_type": "stream",
     "text": [
      " 69%|█████████████████████████████████████████████████████████████████████████████████████▋                                      | 154/223 [03:55<01:47,  1.56s/it]"
     ]
    },
    {
     "name": "stdout",
     "output_type": "stream",
     "text": [
      "xtick: 12\n",
      "ytick: 11\n",
      "4 4\n",
      "4 4\n",
      "removed contained: 4 4\n",
      "4 4\n",
      "removed contained: 4 4\n"
     ]
    },
    {
     "name": "stderr",
     "output_type": "stream",
     "text": [
      " 70%|██████████████████████████████████████████████████████████████████████████████████████▏                                     | 155/223 [03:55<01:24,  1.25s/it]"
     ]
    },
    {
     "name": "stdout",
     "output_type": "stream",
     "text": [
      "xtick: 4\n",
      "ytick: 4\n",
      "6 6\n",
      "5 5\n",
      "removed contained: 5 5\n",
      "6 6\n",
      "removed contained: 6 6\n"
     ]
    },
    {
     "name": "stderr",
     "output_type": "stream",
     "text": [
      " 70%|██████████████████████████████████████████████████████████████████████████████████████▋                                     | 156/223 [03:57<01:34,  1.41s/it]"
     ]
    },
    {
     "name": "stdout",
     "output_type": "stream",
     "text": [
      "xtick: 6\n",
      "ytick: 5\n",
      "11 11\n",
      "10 10\n",
      "removed contained: 10 10\n",
      "11 11\n",
      "removed contained: 11 11\n"
     ]
    },
    {
     "name": "stderr",
     "output_type": "stream",
     "text": [
      " 70%|███████████████████████████████████████████████████████████████████████████████████████▎                                    | 157/223 [03:59<01:51,  1.69s/it]"
     ]
    },
    {
     "name": "stdout",
     "output_type": "stream",
     "text": [
      "xtick: 11\n",
      "ytick: 10\n",
      "5 5\n",
      "10 9\n",
      "removed contained: 9 9\n",
      "5 5\n",
      "removed contained: 5 5\n"
     ]
    },
    {
     "name": "stderr",
     "output_type": "stream",
     "text": [
      " 71%|███████████████████████████████████████████████████████████████████████████████████████▊                                    | 158/223 [04:00<01:35,  1.47s/it]"
     ]
    },
    {
     "name": "stdout",
     "output_type": "stream",
     "text": [
      "xtick: 5\n",
      "ytick: 9\n",
      "8 8\n",
      "9 8\n",
      "removed contained: 8 8\n",
      "9 8\n",
      "removed contained: 8 8\n"
     ]
    },
    {
     "name": "stderr",
     "output_type": "stream",
     "text": [
      " 71%|████████████████████████████████████████████████████████████████████████████████████████▍                                   | 159/223 [04:01<01:30,  1.41s/it]"
     ]
    },
    {
     "name": "stdout",
     "output_type": "stream",
     "text": [
      "xtick: 8\n",
      "ytick: 8\n",
      "6 6\n",
      "5 5\n",
      "removed contained: 5 5\n",
      "6 6\n",
      "removed contained: 6 6\n"
     ]
    },
    {
     "name": "stderr",
     "output_type": "stream",
     "text": [
      " 72%|████████████████████████████████████████████████████████████████████████████████████████▉                                   | 160/223 [04:02<01:20,  1.28s/it]"
     ]
    },
    {
     "name": "stdout",
     "output_type": "stream",
     "text": [
      "xtick: 6\n",
      "ytick: 5\n",
      "11 11\n",
      "8 8\n",
      "removed contained: 8 8\n",
      "7 7\n",
      "removed contained: 7 7\n"
     ]
    },
    {
     "name": "stderr",
     "output_type": "stream",
     "text": [
      " 72%|█████████████████████████████████████████████████████████████████████████████████████████▌                                  | 161/223 [04:03<01:11,  1.15s/it]"
     ]
    },
    {
     "name": "stdout",
     "output_type": "stream",
     "text": [
      "xtick: 7\n",
      "ytick: 8\n",
      "28 28\n",
      "5 5\n",
      "removed contained: 5 5\n",
      "28 28\n",
      "removed contained: 28 28\n"
     ]
    },
    {
     "name": "stderr",
     "output_type": "stream",
     "text": [
      " 73%|██████████████████████████████████████████████████████████████████████████████████████████                                  | 162/223 [04:06<01:35,  1.57s/it]"
     ]
    },
    {
     "name": "stdout",
     "output_type": "stream",
     "text": [
      "xtick: 28\n",
      "ytick: 5\n",
      "16 16\n",
      "7 7\n",
      "removed contained: 7 7\n",
      "24 24\n",
      "removed contained: 24 24\n"
     ]
    },
    {
     "name": "stderr",
     "output_type": "stream",
     "text": [
      " 73%|██████████████████████████████████████████████████████████████████████████████████████████▋                                 | 163/223 [04:08<01:53,  1.89s/it]"
     ]
    },
    {
     "name": "stdout",
     "output_type": "stream",
     "text": [
      "xtick: 24\n",
      "ytick: 7\n",
      "5 5\n",
      "8 8\n",
      "removed contained: 8 8\n",
      "5 5\n",
      "removed contained: 5 5\n"
     ]
    },
    {
     "name": "stderr",
     "output_type": "stream",
     "text": [
      " 74%|███████████████████████████████████████████████████████████████████████████████████████████▏                                | 164/223 [04:10<01:38,  1.68s/it]"
     ]
    },
    {
     "name": "stdout",
     "output_type": "stream",
     "text": [
      "xtick: 5\n",
      "ytick: 8\n",
      "7 7\n",
      "4 4\n",
      "removed contained: 4 4\n",
      "10 10\n",
      "removed contained: 10 10\n"
     ]
    },
    {
     "name": "stderr",
     "output_type": "stream",
     "text": [
      " 74%|███████████████████████████████████████████████████████████████████████████████████████████▋                                | 165/223 [04:11<01:29,  1.55s/it]"
     ]
    },
    {
     "name": "stdout",
     "output_type": "stream",
     "text": [
      "xtick: 10\n",
      "ytick: 4\n",
      "5 4\n",
      "10 10\n",
      "removed contained: 10 10\n",
      "4 4\n",
      "removed contained: 4 4\n"
     ]
    },
    {
     "name": "stderr",
     "output_type": "stream",
     "text": [
      " 74%|████████████████████████████████████████████████████████████████████████████████████████████▎                               | 166/223 [04:12<01:17,  1.37s/it]"
     ]
    },
    {
     "name": "stdout",
     "output_type": "stream",
     "text": [
      "xtick: 4\n",
      "ytick: 10\n",
      "18 18\n",
      "6 6\n",
      "removed contained: 6 6\n",
      "11 11\n",
      "removed contained: 11 11\n"
     ]
    },
    {
     "name": "stderr",
     "output_type": "stream",
     "text": [
      " 75%|████████████████████████████████████████████████████████████████████████████████████████████▊                               | 167/223 [04:14<01:35,  1.71s/it]"
     ]
    },
    {
     "name": "stdout",
     "output_type": "stream",
     "text": [
      "xtick: 11\n",
      "ytick: 6\n",
      "5 5\n",
      "5 5\n",
      "removed contained: 5 5\n",
      "6 5\n",
      "removed contained: 5 5\n"
     ]
    },
    {
     "name": "stderr",
     "output_type": "stream",
     "text": [
      " 75%|█████████████████████████████████████████████████████████████████████████████████████████████▍                              | 168/223 [04:16<01:35,  1.74s/it]"
     ]
    },
    {
     "name": "stdout",
     "output_type": "stream",
     "text": [
      "xtick: 5\n",
      "ytick: 5\n",
      "90 90\n",
      "5 5\n",
      "removed contained: 5 5\n",
      "4 4\n",
      "removed contained: 4 4\n"
     ]
    },
    {
     "name": "stderr",
     "output_type": "stream",
     "text": [
      " 76%|█████████████████████████████████████████████████████████████████████████████████████████████▉                              | 169/223 [04:17<01:14,  1.38s/it]"
     ]
    },
    {
     "name": "stdout",
     "output_type": "stream",
     "text": [
      "xtick: 4\n",
      "ytick: 5\n",
      "22 22\n",
      "7 7\n",
      "removed contained: 7 7\n",
      "22 22\n",
      "removed contained: 22 22\n"
     ]
    },
    {
     "name": "stderr",
     "output_type": "stream",
     "text": [
      " 76%|██████████████████████████████████████████████████████████████████████████████████████████████▌                             | 170/223 [04:20<01:36,  1.82s/it]"
     ]
    },
    {
     "name": "stdout",
     "output_type": "stream",
     "text": [
      "xtick: 22\n",
      "ytick: 7\n",
      "7 6\n",
      "6 6\n",
      "removed contained: 6 6\n",
      "6 6\n",
      "removed contained: 6 6\n"
     ]
    },
    {
     "name": "stderr",
     "output_type": "stream",
     "text": [
      " 77%|███████████████████████████████████████████████████████████████████████████████████████████████                             | 171/223 [04:21<01:25,  1.64s/it]"
     ]
    },
    {
     "name": "stdout",
     "output_type": "stream",
     "text": [
      "xtick: 6\n",
      "ytick: 6\n",
      "7 7\n",
      "7 7\n",
      "removed contained: 7 7\n",
      "7 7\n",
      "removed contained: 7 7\n"
     ]
    },
    {
     "name": "stderr",
     "output_type": "stream",
     "text": [
      " 77%|███████████████████████████████████████████████████████████████████████████████████████████████▋                            | 172/223 [04:22<01:11,  1.41s/it]"
     ]
    },
    {
     "name": "stdout",
     "output_type": "stream",
     "text": [
      "xtick: 7\n",
      "ytick: 7\n",
      "3 3\n",
      "8 8\n",
      "removed contained: 8 8\n",
      "3 3\n",
      "removed contained: 3 3\n"
     ]
    },
    {
     "name": "stderr",
     "output_type": "stream",
     "text": [
      " 78%|████████████████████████████████████████████████████████████████████████████████████████████████▏                           | 173/223 [04:23<01:05,  1.31s/it]"
     ]
    },
    {
     "name": "stdout",
     "output_type": "stream",
     "text": [
      "xtick: 3\n",
      "ytick: 8\n",
      "6 6\n",
      "7 7\n",
      "removed contained: 7 7\n",
      "6 6\n",
      "removed contained: 6 6\n"
     ]
    },
    {
     "name": "stderr",
     "output_type": "stream",
     "text": [
      " 78%|████████████████████████████████████████████████████████████████████████████████████████████████▊                           | 174/223 [04:24<01:00,  1.24s/it]"
     ]
    },
    {
     "name": "stdout",
     "output_type": "stream",
     "text": [
      "xtick: 6\n",
      "ytick: 7\n",
      "10 10\n",
      "5 5\n",
      "removed contained: 5 5\n",
      "15 15\n",
      "removed contained: 15 15\n"
     ]
    },
    {
     "name": "stderr",
     "output_type": "stream",
     "text": [
      " 78%|█████████████████████████████████████████████████████████████████████████████████████████████████▎                          | 175/223 [04:26<01:06,  1.39s/it]"
     ]
    },
    {
     "name": "stdout",
     "output_type": "stream",
     "text": [
      "xtick: 15\n",
      "ytick: 5\n",
      "10 10\n",
      "11 11\n",
      "removed contained: 11 11\n",
      "7 7\n",
      "removed contained: 7 7\n"
     ]
    },
    {
     "name": "stderr",
     "output_type": "stream",
     "text": [
      " 79%|█████████████████████████████████████████████████████████████████████████████████████████████████▊                          | 176/223 [04:27<01:00,  1.29s/it]"
     ]
    },
    {
     "name": "stdout",
     "output_type": "stream",
     "text": [
      "xtick: 7\n",
      "ytick: 11\n",
      "7 7\n",
      "7 6\n",
      "removed contained: 6 6\n",
      "8 8\n",
      "removed contained: 8 8\n"
     ]
    },
    {
     "name": "stderr",
     "output_type": "stream",
     "text": [
      " 79%|██████████████████████████████████████████████████████████████████████████████████████████████████▍                         | 177/223 [04:28<01:02,  1.37s/it]"
     ]
    },
    {
     "name": "stdout",
     "output_type": "stream",
     "text": [
      "xtick: 8\n",
      "ytick: 6\n",
      "10 10\n",
      "7 7\n",
      "removed contained: 7 7\n",
      "10 10\n",
      "removed contained: 10 10\n"
     ]
    },
    {
     "name": "stderr",
     "output_type": "stream",
     "text": [
      " 80%|██████████████████████████████████████████████████████████████████████████████████████████████████▉                         | 178/223 [04:30<01:03,  1.40s/it]"
     ]
    },
    {
     "name": "stdout",
     "output_type": "stream",
     "text": [
      "xtick: 10\n",
      "ytick: 7\n",
      "5 5\n",
      "5 5\n",
      "removed contained: 5 5\n",
      "7 7\n",
      "removed contained: 7 7\n"
     ]
    },
    {
     "name": "stderr",
     "output_type": "stream",
     "text": [
      " 80%|███████████████████████████████████████████████████████████████████████████████████████████████████▌                        | 179/223 [04:31<00:55,  1.26s/it]"
     ]
    },
    {
     "name": "stdout",
     "output_type": "stream",
     "text": [
      "xtick: 5\n",
      "ytick: 7\n",
      "6 6\n",
      "10 10\n",
      "removed contained: 10 10\n",
      "8 8\n",
      "removed contained: 8 8\n"
     ]
    },
    {
     "name": "stderr",
     "output_type": "stream",
     "text": [
      " 81%|████████████████████████████████████████████████████████████████████████████████████████████████████                        | 180/223 [04:32<00:50,  1.18s/it]"
     ]
    },
    {
     "name": "stdout",
     "output_type": "stream",
     "text": [
      "xtick: 8\n",
      "ytick: 10\n",
      "170 170\n",
      "4 4\n",
      "removed contained: 4 4\n",
      "4 4\n",
      "removed contained: 4 4\n"
     ]
    },
    {
     "name": "stderr",
     "output_type": "stream",
     "text": [
      " 81%|████████████████████████████████████████████████████████████████████████████████████████████████████▋                       | 181/223 [04:32<00:41,  1.02it/s]"
     ]
    },
    {
     "name": "stdout",
     "output_type": "stream",
     "text": [
      "xtick: 4\n",
      "ytick: 4\n",
      "11 11\n",
      "11 10\n",
      "removed contained: 10 10\n",
      "11 11\n",
      "removed contained: 11 11\n"
     ]
    },
    {
     "name": "stderr",
     "output_type": "stream",
     "text": [
      " 82%|█████████████████████████████████████████████████████████████████████████████████████████████████████▏                      | 182/223 [04:33<00:44,  1.09s/it]"
     ]
    },
    {
     "name": "stdout",
     "output_type": "stream",
     "text": [
      "xtick: 11\n",
      "ytick: 10\n",
      "8 8\n",
      "5 5\n",
      "removed contained: 5 5\n",
      "11 11\n",
      "removed contained: 11 11\n"
     ]
    },
    {
     "name": "stderr",
     "output_type": "stream",
     "text": [
      " 82%|█████████████████████████████████████████████████████████████████████████████████████████████████████▊                      | 183/223 [04:35<00:52,  1.31s/it]"
     ]
    },
    {
     "name": "stdout",
     "output_type": "stream",
     "text": [
      "xtick: 11\n",
      "ytick: 5\n",
      "10 10\n",
      "4 4\n",
      "removed contained: 4 4\n",
      "11 11\n",
      "removed contained: 11 11\n"
     ]
    },
    {
     "name": "stderr",
     "output_type": "stream",
     "text": [
      " 83%|██████████████████████████████████████████████████████████████████████████████████████████████████████▎                     | 184/223 [04:36<00:49,  1.27s/it]"
     ]
    },
    {
     "name": "stdout",
     "output_type": "stream",
     "text": [
      "xtick: 11\n",
      "ytick: 4\n",
      "8 8\n",
      "11 11\n",
      "removed contained: 11 11\n",
      "8 8\n",
      "removed contained: 8 8\n"
     ]
    },
    {
     "name": "stderr",
     "output_type": "stream",
     "text": [
      " 83%|██████████████████████████████████████████████████████████████████████████████████████████████████████▊                     | 185/223 [04:38<00:52,  1.39s/it]"
     ]
    },
    {
     "name": "stdout",
     "output_type": "stream",
     "text": [
      "xtick: 8\n",
      "ytick: 11\n",
      "5 5\n",
      "7 7\n",
      "removed contained: 7 7\n",
      "5 5\n",
      "removed contained: 5 5\n"
     ]
    },
    {
     "name": "stderr",
     "output_type": "stream",
     "text": [
      " 83%|███████████████████████████████████████████████████████████████████████████████████████████████████████▍                    | 186/223 [04:39<00:45,  1.24s/it]"
     ]
    },
    {
     "name": "stdout",
     "output_type": "stream",
     "text": [
      "xtick: 5\n",
      "ytick: 7\n",
      "5 5\n",
      "6 6\n",
      "removed contained: 6 6\n",
      "7 7\n",
      "removed contained: 6 7\n"
     ]
    },
    {
     "name": "stderr",
     "output_type": "stream",
     "text": [
      " 84%|███████████████████████████████████████████████████████████████████████████████████████████████████████▉                    | 187/223 [04:40<00:44,  1.23s/it]"
     ]
    },
    {
     "name": "stdout",
     "output_type": "stream",
     "text": [
      "xtick: 6\n",
      "ytick: 6\n",
      "6 6\n",
      "7 7\n",
      "removed contained: 7 7\n",
      "6 6\n",
      "removed contained: 6 6\n"
     ]
    },
    {
     "name": "stderr",
     "output_type": "stream",
     "text": [
      " 84%|████████████████████████████████████████████████████████████████████████████████████████████████████████▌                   | 188/223 [04:41<00:37,  1.08s/it]"
     ]
    },
    {
     "name": "stdout",
     "output_type": "stream",
     "text": [
      "xtick: 6\n",
      "ytick: 7\n",
      "5 5\n",
      "7 7\n",
      "removed contained: 7 7\n",
      "6 6\n",
      "removed contained: 5 6\n"
     ]
    },
    {
     "name": "stderr",
     "output_type": "stream",
     "text": [
      " 85%|█████████████████████████████████████████████████████████████████████████████████████████████████████████                   | 189/223 [04:42<00:33,  1.03it/s]"
     ]
    },
    {
     "name": "stdout",
     "output_type": "stream",
     "text": [
      "xtick: 5\n",
      "ytick: 7\n",
      "6 6\n",
      "9 9\n",
      "removed contained: 9 9\n",
      "6 6\n",
      "removed contained: 6 6\n"
     ]
    },
    {
     "name": "stderr",
     "output_type": "stream",
     "text": [
      " 85%|█████████████████████████████████████████████████████████████████████████████████████████████████████████▋                  | 190/223 [04:43<00:37,  1.13s/it]"
     ]
    },
    {
     "name": "stdout",
     "output_type": "stream",
     "text": [
      "xtick: 6\n",
      "ytick: 9\n",
      "5 5\n",
      "6 6\n",
      "removed contained: 6 6\n",
      "11 11\n",
      "removed contained: 11 11\n"
     ]
    },
    {
     "name": "stderr",
     "output_type": "stream",
     "text": [
      " 86%|██████████████████████████████████████████████████████████████████████████████████████████████████████████▏                 | 191/223 [04:44<00:35,  1.11s/it]"
     ]
    },
    {
     "name": "stdout",
     "output_type": "stream",
     "text": [
      "xtick: 6\n",
      "ytick: 11\n",
      "5 5\n",
      "9 9\n",
      "removed contained: 9 9\n",
      "1 1\n",
      "removed contained: 1 1\n"
     ]
    },
    {
     "name": "stderr",
     "output_type": "stream",
     "text": [
      " 86%|██████████████████████████████████████████████████████████████████████████████████████████████████████████▊                 | 192/223 [04:45<00:28,  1.07it/s]"
     ]
    },
    {
     "name": "stdout",
     "output_type": "stream",
     "text": [
      "xtick: 1\n",
      "ytick: 9\n",
      "6 6\n",
      "9 9\n",
      "removed contained: 9 9\n",
      "7 7\n",
      "removed contained: 7 7\n"
     ]
    },
    {
     "name": "stderr",
     "output_type": "stream",
     "text": [
      " 87%|███████████████████████████████████████████████████████████████████████████████████████████████████████████▎                | 193/223 [04:47<00:37,  1.25s/it]"
     ]
    },
    {
     "name": "stdout",
     "output_type": "stream",
     "text": [
      "xtick: 7\n",
      "ytick: 9\n",
      "8 8\n",
      "7 7\n",
      "removed contained: 7 7\n",
      "8 8\n",
      "removed contained: 8 8\n"
     ]
    },
    {
     "name": "stderr",
     "output_type": "stream",
     "text": [
      " 87%|███████████████████████████████████████████████████████████████████████████████████████████████████████████▊                | 194/223 [04:48<00:33,  1.14s/it]"
     ]
    },
    {
     "name": "stdout",
     "output_type": "stream",
     "text": [
      "xtick: 8\n",
      "ytick: 7\n",
      "20 20\n",
      "10 10\n",
      "removed contained: 10 10\n",
      "13 13\n",
      "removed contained: 13 13\n"
     ]
    },
    {
     "name": "stderr",
     "output_type": "stream",
     "text": [
      " 87%|████████████████████████████████████████████████████████████████████████████████████████████████████████████▍               | 195/223 [04:50<00:39,  1.39s/it]"
     ]
    },
    {
     "name": "stdout",
     "output_type": "stream",
     "text": [
      "xtick: 13\n",
      "ytick: 10\n",
      "10 10\n",
      "7 7\n",
      "removed contained: 7 7\n",
      "9 9\n",
      "removed contained: 9 9\n"
     ]
    },
    {
     "name": "stderr",
     "output_type": "stream",
     "text": [
      " 88%|████████████████████████████████████████████████████████████████████████████████████████████████████████████▉               | 196/223 [04:50<00:32,  1.19s/it]"
     ]
    },
    {
     "name": "stdout",
     "output_type": "stream",
     "text": [
      "xtick: 9\n",
      "ytick: 7\n",
      "10 10\n",
      "4 4\n",
      "removed contained: 4 4\n",
      "11 11\n",
      "removed contained: 11 11\n"
     ]
    },
    {
     "name": "stderr",
     "output_type": "stream",
     "text": [
      " 88%|█████████████████████████████████████████████████████████████████████████████████████████████████████████████▌              | 197/223 [04:51<00:29,  1.12s/it]"
     ]
    },
    {
     "name": "stdout",
     "output_type": "stream",
     "text": [
      "xtick: 11\n",
      "ytick: 4\n",
      "11 11\n",
      "11 11\n",
      "removed contained: 11 11\n",
      "11 11\n",
      "removed contained: 10 11\n"
     ]
    },
    {
     "name": "stderr",
     "output_type": "stream",
     "text": [
      " 89%|██████████████████████████████████████████████████████████████████████████████████████████████████████████████              | 198/223 [04:53<00:32,  1.30s/it]"
     ]
    },
    {
     "name": "stdout",
     "output_type": "stream",
     "text": [
      "xtick: 10\n",
      "ytick: 11\n",
      "5 5\n",
      "11 11\n",
      "removed contained: 11 11\n",
      "5 5\n",
      "removed contained: 5 5\n"
     ]
    },
    {
     "name": "stderr",
     "output_type": "stream",
     "text": [
      " 89%|██████████████████████████████████████████████████████████████████████████████████████████████████████████████▋             | 199/223 [04:54<00:29,  1.22s/it]"
     ]
    },
    {
     "name": "stdout",
     "output_type": "stream",
     "text": [
      "xtick: 5\n",
      "ytick: 11\n",
      "7 7\n",
      "6 6\n",
      "removed contained: 6 6\n",
      "7 7\n",
      "removed contained: 7 7\n"
     ]
    },
    {
     "name": "stderr",
     "output_type": "stream",
     "text": [
      " 90%|███████████████████████████████████████████████████████████████████████████████████████████████████████████████▏            | 200/223 [04:56<00:29,  1.30s/it]"
     ]
    },
    {
     "name": "stdout",
     "output_type": "stream",
     "text": [
      "xtick: 7\n",
      "ytick: 6\n",
      "2 2\n",
      "8 8\n",
      "removed contained: 8 8\n",
      "5 5\n",
      "removed contained: 5 5\n"
     ]
    },
    {
     "name": "stderr",
     "output_type": "stream",
     "text": [
      " 90%|███████████████████████████████████████████████████████████████████████████████████████████████████████████████▊            | 201/223 [04:56<00:24,  1.13s/it]"
     ]
    },
    {
     "name": "stdout",
     "output_type": "stream",
     "text": [
      "xtick: 5\n",
      "ytick: 8\n",
      "8 8\n",
      "6 6\n",
      "removed contained: 6 6\n",
      "8 8\n",
      "removed contained: 8 8\n"
     ]
    },
    {
     "name": "stderr",
     "output_type": "stream",
     "text": [
      " 91%|████████████████████████████████████████████████████████████████████████████████████████████████████████████████▎           | 202/223 [04:57<00:22,  1.06s/it]"
     ]
    },
    {
     "name": "stdout",
     "output_type": "stream",
     "text": [
      "xtick: 8\n",
      "ytick: 6\n",
      "23 23\n",
      "8 8\n",
      "removed contained: 8 8\n",
      "21 21\n",
      "removed contained: 21 21\n"
     ]
    },
    {
     "name": "stderr",
     "output_type": "stream",
     "text": [
      " 91%|████████████████████████████████████████████████████████████████████████████████████████████████████████████████▉           | 203/223 [05:00<00:29,  1.49s/it]"
     ]
    },
    {
     "name": "stdout",
     "output_type": "stream",
     "text": [
      "xtick: 21\n",
      "ytick: 8\n",
      "16 16\n",
      "2 2\n",
      "removed contained: 2 2\n",
      "6 5\n",
      "removed contained: 5 5\n"
     ]
    },
    {
     "name": "stderr",
     "output_type": "stream",
     "text": [
      " 91%|█████████████████████████████████████████████████████████████████████████████████████████████████████████████████▍          | 204/223 [05:00<00:21,  1.15s/it]"
     ]
    },
    {
     "name": "stdout",
     "output_type": "stream",
     "text": [
      "xtick: 5\n",
      "ytick: 2\n",
      "26 26\n",
      "3 3\n",
      "removed contained: 3 3\n",
      "4 4\n",
      "removed contained: 4 4\n"
     ]
    },
    {
     "name": "stderr",
     "output_type": "stream",
     "text": [
      " 92%|█████████████████████████████████████████████████████████████████████████████████████████████████████████████████▉          | 205/223 [05:00<00:16,  1.11it/s]"
     ]
    },
    {
     "name": "stdout",
     "output_type": "stream",
     "text": [
      "xtick: 4\n",
      "ytick: 3\n",
      "7 7\n",
      "9 9\n",
      "removed contained: 9 9\n",
      "7 7\n",
      "removed contained: 7 7\n"
     ]
    },
    {
     "name": "stderr",
     "output_type": "stream",
     "text": [
      " 92%|██████████████████████████████████████████████████████████████████████████████████████████████████████████████████▌         | 206/223 [05:02<00:20,  1.20s/it]"
     ]
    },
    {
     "name": "stdout",
     "output_type": "stream",
     "text": [
      "xtick: 7\n",
      "ytick: 9\n",
      "7 7\n",
      "6 6\n",
      "removed contained: 6 6\n",
      "7 7\n",
      "removed contained: 7 7\n"
     ]
    },
    {
     "name": "stderr",
     "output_type": "stream",
     "text": [
      " 93%|███████████████████████████████████████████████████████████████████████████████████████████████████████████████████         | 207/223 [05:03<00:16,  1.04s/it]"
     ]
    },
    {
     "name": "stdout",
     "output_type": "stream",
     "text": [
      "xtick: 7\n",
      "ytick: 6\n",
      "5 5\n",
      "5 5\n",
      "removed contained: 5 5\n",
      "5 5\n",
      "removed contained: 5 5\n"
     ]
    },
    {
     "name": "stderr",
     "output_type": "stream",
     "text": [
      " 93%|███████████████████████████████████████████████████████████████████████████████████████████████████████████████████▋        | 208/223 [05:03<00:13,  1.13it/s]"
     ]
    },
    {
     "name": "stdout",
     "output_type": "stream",
     "text": [
      "xtick: 5\n",
      "ytick: 5\n",
      "6 6\n",
      "6 5\n",
      "removed contained: 5 5\n",
      "8 7\n",
      "removed contained: 7 7\n"
     ]
    },
    {
     "name": "stderr",
     "output_type": "stream",
     "text": [
      " 94%|████████████████████████████████████████████████████████████████████████████████████████████████████████████████████▏       | 209/223 [05:04<00:11,  1.27it/s]"
     ]
    },
    {
     "name": "stdout",
     "output_type": "stream",
     "text": [
      "xtick: 7\n",
      "ytick: 5\n",
      "4 4\n",
      "8 8\n",
      "removed contained: 8 8\n",
      "5 5\n",
      "removed contained: 5 5\n"
     ]
    },
    {
     "name": "stderr",
     "output_type": "stream",
     "text": [
      " 94%|████████████████████████████████████████████████████████████████████████████████████████████████████████████████████▊       | 210/223 [05:05<00:12,  1.02it/s]"
     ]
    },
    {
     "name": "stdout",
     "output_type": "stream",
     "text": [
      "xtick: 5\n",
      "ytick: 8\n",
      "5 5\n",
      "8 8\n",
      "removed contained: 8 8\n",
      "6 6\n",
      "removed contained: 6 6\n"
     ]
    },
    {
     "name": "stderr",
     "output_type": "stream",
     "text": [
      " 95%|█████████████████████████████████████████████████████████████████████████████████████████████████████████████████████▎      | 211/223 [05:06<00:10,  1.13it/s]"
     ]
    },
    {
     "name": "stdout",
     "output_type": "stream",
     "text": [
      "xtick: 6\n",
      "ytick: 8\n",
      "3 3\n",
      "8 8\n",
      "removed contained: 8 8\n",
      "5 5\n",
      "removed contained: 5 5\n"
     ]
    },
    {
     "name": "stderr",
     "output_type": "stream",
     "text": [
      " 95%|█████████████████████████████████████████████████████████████████████████████████████████████████████████████████████▉      | 212/223 [05:07<00:08,  1.26it/s]"
     ]
    },
    {
     "name": "stdout",
     "output_type": "stream",
     "text": [
      "xtick: 5\n",
      "ytick: 8\n",
      "14 14\n",
      "8 8\n",
      "removed contained: 8 8\n",
      "15 15\n",
      "removed contained: 15 15\n"
     ]
    },
    {
     "name": "stderr",
     "output_type": "stream",
     "text": [
      " 96%|██████████████████████████████████████████████████████████████████████████████████████████████████████████████████████▍     | 213/223 [05:09<00:13,  1.36s/it]"
     ]
    },
    {
     "name": "stdout",
     "output_type": "stream",
     "text": [
      "xtick: 15\n",
      "ytick: 8\n",
      "7 7\n",
      "10 10\n",
      "removed contained: 10 10\n",
      "8 8\n",
      "removed contained: 8 8\n"
     ]
    },
    {
     "name": "stderr",
     "output_type": "stream",
     "text": [
      " 96%|██████████████████████████████████████████████████████████████████████████████████████████████████████████████████████▉     | 214/223 [05:10<00:11,  1.28s/it]"
     ]
    },
    {
     "name": "stdout",
     "output_type": "stream",
     "text": [
      "xtick: 8\n",
      "ytick: 10\n",
      "2 2\n",
      "4 3\n",
      "removed contained: 3 3\n",
      "3 2\n",
      "removed contained: 2 2\n"
     ]
    },
    {
     "name": "stderr",
     "output_type": "stream",
     "text": [
      " 96%|███████████████████████████████████████████████████████████████████████████████████████████████████████████████████████▌    | 215/223 [05:11<00:07,  1.01it/s]"
     ]
    },
    {
     "name": "stdout",
     "output_type": "stream",
     "text": [
      "xtick: 2\n",
      "ytick: 3\n",
      "10 7\n",
      "4 4\n",
      "removed contained: 4 4\n",
      "10 10\n",
      "removed contained: 10 10\n"
     ]
    },
    {
     "name": "stderr",
     "output_type": "stream",
     "text": [
      " 97%|████████████████████████████████████████████████████████████████████████████████████████████████████████████████████████    | 216/223 [05:13<00:08,  1.25s/it]"
     ]
    },
    {
     "name": "stdout",
     "output_type": "stream",
     "text": [
      "xtick: 10\n",
      "ytick: 4\n",
      "0 0\n",
      "8 8\n",
      "removed contained: 8 8\n",
      "5 5\n",
      "removed contained: 5 5\n"
     ]
    },
    {
     "name": "stderr",
     "output_type": "stream",
     "text": [
      " 97%|████████████████████████████████████████████████████████████████████████████████████████████████████████████████████████▋   | 217/223 [05:13<00:06,  1.15s/it]"
     ]
    },
    {
     "name": "stdout",
     "output_type": "stream",
     "text": [
      "xtick: 5\n",
      "ytick: 8\n",
      "Error\n",
      "12 12\n",
      "4 4\n",
      "removed contained: 4 4\n",
      "11 11\n",
      "removed contained: 11 11\n"
     ]
    },
    {
     "name": "stderr",
     "output_type": "stream",
     "text": [
      " 98%|█████████████████████████████████████████████████████████████████████████████████████████████████████████████████████████▏  | 218/223 [05:14<00:05,  1.06s/it]"
     ]
    },
    {
     "name": "stdout",
     "output_type": "stream",
     "text": [
      "xtick: 11\n",
      "ytick: 4\n",
      "6 6\n",
      "10 10\n",
      "removed contained: 10 10\n",
      "6 6\n",
      "removed contained: 6 6\n"
     ]
    },
    {
     "name": "stderr",
     "output_type": "stream",
     "text": [
      " 98%|█████████████████████████████████████████████████████████████████████████████████████████████████████████████████████████▊  | 219/223 [05:16<00:05,  1.37s/it]"
     ]
    },
    {
     "name": "stdout",
     "output_type": "stream",
     "text": [
      "xtick: 6\n",
      "ytick: 10\n",
      "56 56\n",
      "8 8\n",
      "removed contained: 8 8\n",
      "8 8\n",
      "removed contained: 8 8\n"
     ]
    },
    {
     "name": "stderr",
     "output_type": "stream",
     "text": [
      " 99%|██████████████████████████████████████████████████████████████████████████████████████████████████████████████████████████▎ | 220/223 [05:18<00:04,  1.53s/it]"
     ]
    },
    {
     "name": "stdout",
     "output_type": "stream",
     "text": [
      "xtick: 8\n",
      "ytick: 8\n",
      "10 10\n",
      "7 7\n",
      "removed contained: 7 7\n",
      "10 10\n",
      "removed contained: 9 10\n"
     ]
    },
    {
     "name": "stderr",
     "output_type": "stream",
     "text": [
      " 99%|██████████████████████████████████████████████████████████████████████████████████████████████████████████████████████████▉ | 221/223 [05:19<00:02,  1.38s/it]"
     ]
    },
    {
     "name": "stdout",
     "output_type": "stream",
     "text": [
      "xtick: 9\n",
      "ytick: 7\n",
      "22 22\n",
      "8 8\n",
      "removed contained: 8 8\n",
      "22 22\n",
      "removed contained: 22 22\n"
     ]
    },
    {
     "name": "stderr",
     "output_type": "stream",
     "text": [
      "100%|███████████████████████████████████████████████████████████████████████████████████████████████████████████████████████████▍| 222/223 [05:23<00:01,  1.98s/it]"
     ]
    },
    {
     "name": "stdout",
     "output_type": "stream",
     "text": [
      "xtick: 22\n",
      "ytick: 8\n",
      "3 3\n",
      "10 10\n",
      "removed contained: 10 10\n",
      "3 3\n",
      "removed contained: 3 3\n"
     ]
    },
    {
     "name": "stderr",
     "output_type": "stream",
     "text": [
      "100%|████████████████████████████████████████████████████████████████████████████████████████████████████████████████████████████| 223/223 [05:24<00:00,  1.46s/it]"
     ]
    },
    {
     "name": "stdout",
     "output_type": "stream",
     "text": [
      "xtick: 3\n",
      "ytick: 10\n"
     ]
    },
    {
     "name": "stderr",
     "output_type": "stream",
     "text": [
      "\n"
     ]
    }
   ],
   "source": [
    "ST= time.time()\n",
    "predictions = {}\n",
    "groundtruth = {}\n",
    "ec=0\n",
    "for pth in tqdm(random.sample(extracted_images,len(extracted_images))):\n",
    "    img = cv2.cvtColor(cv2.imread(pth), cv2.COLOR_BGR2RGB)\n",
    "    results = detect_yolo(pth)\n",
    "    tmppred = [results[:,:4].cpu(),results[:,5].cpu(),results[:,4].cpu()]    \n",
    "    byclass = divide_by_class(*tmppred)\n",
    "    try:\n",
    "        preds,ctype =get_predictions(byclass,img)\n",
    "    except:\n",
    "        print(\"Error\")\n",
    "        preds =[]\n",
    "        ctype = \"scatter\"\n",
    "        ec+=1\n",
    "    jsonname = os.path.split(pth)[-1].replace(\".jpg\",\"\")\n",
    "    jsonpath = os.path.join(\"../datasets/dataset/train/annotations\",jsonname+\".json\")\n",
    "    annot = json.load(open(jsonpath))\n",
    "    predictions[f\"{jsonname}_x\"] = (\";\".join([str(pp[\"x\"]) for pp in preds]),ctype)\n",
    "    predictions[f\"{jsonname}_y\"] = (\";\".join([str(pp[\"y\"]) for pp in preds]),ctype)\n",
    "    groundtruth[f\"{jsonname}_x\"] = ([pp[\"x\"] for pp in annot[\"data-series\"] if \"x\" in pp],annot[\"chart-type\"])\n",
    "    groundtruth[f\"{jsonname}_y\"] = ([pp[\"y\"] for pp in annot[\"data-series\"] if \"y\" in pp],annot[\"chart-type\"])\n",
    "total = time.time() - ST"
   ]
  },
  {
   "cell_type": "code",
   "execution_count": 65,
   "metadata": {},
   "outputs": [],
   "source": [
    "\n",
    "prediction_df = pd.DataFrame.from_dict(predictions, orient='index', columns=['data_series', 'chart_type']).rename_axis('id')\n",
    "groundt_df = pd.DataFrame.from_dict(groundtruth, orient='index', columns=['data_series', 'chart_type']).rename_axis('id')"
   ]
  },
  {
   "cell_type": "code",
   "execution_count": 66,
   "metadata": {},
   "outputs": [],
   "source": [
    "mask = (prediction_df[0::2].data_series.apply(lambda x: len(x.split(\";\")))==groundt_df[0::2].data_series.apply(len))"
   ]
  },
  {
   "cell_type": "code",
   "execution_count": 67,
   "metadata": {},
   "outputs": [
    {
     "data": {
      "text/plain": [
       "0.7443946188340808"
      ]
     },
     "execution_count": 67,
     "metadata": {},
     "output_type": "execute_result"
    }
   ],
   "source": [
    "mask.mean()"
   ]
  },
  {
   "cell_type": "code",
   "execution_count": 68,
   "metadata": {},
   "outputs": [],
   "source": [
    "# mispred=groundt_df[0::2][~(mask&(prediction_df[0::2].chart_type==groundt_df[0::2].chart_type))]"
   ]
  },
  {
   "cell_type": "code",
   "execution_count": 69,
   "metadata": {},
   "outputs": [],
   "source": [
    "# opth = random.choice(mispred.index)\n",
    "# pth = os.path.join(\"../datasets/dataset/keypoint/images/valid/\",opth.split(\"_\")[0]+\".jpg\")\n",
    "# img = cv2.cvtColor(cv2.imread(pth), cv2.COLOR_BGR2RGB)\n",
    "# results = yolo_model.predict(pth, save=False, imgsz=640, conf=0.2,boxes=True)\n",
    "# predictions = [results[0].boxes.xywh.cpu(),results[0].boxes.cls.cpu(),results[0].boxes.conf.cpu()]\n",
    "# byclass = divide_by_class(*predictions)\n",
    "# preds,ctype =get_predictions(byclass,img)\n",
    "# jsonname = os.path.split(pth)[-1].replace(\".jpg\",\"\")\n",
    "# jsonpath = os.path.join(\"../datasets/dataset/train/annotations\",jsonname+\".json\")\n",
    "# annot = json.load(open(jsonpath))\n",
    "# # print(ctype)\n",
    "# print(len(preds),len(annot[\"data-series\"]))\n",
    "# # print(\"x:\", ([pp[\"x\"] for pp in preds]))\n",
    "# # print(\"y:\", ([pp[\"y\"] for pp in preds]))\n",
    "# # print(\"gt_x:\", [pp[\"x\"] for pp in annot[\"data-series\"] if \"x\" in pp])\n",
    "# # print(\"gt_y:\", [pp[\"y\"] for pp in annot[\"data-series\"] if \"y\" in pp])\n",
    "# # print(len(byclass[0]))\n",
    "# plot_boxes(pth,results[0].boxes.xywh.cpu(),results[0].boxes.cls.cpu(),results[0].boxes.conf.cpu())"
   ]
  },
  {
   "cell_type": "code",
   "execution_count": 70,
   "metadata": {
    "collapsed": true,
    "jupyter": {
     "outputs_hidden": true
    }
   },
   "outputs": [
    {
     "name": "stdout",
     "output_type": "stream",
     "text": [
      "unequal\n",
      "unequal\n",
      "unequal\n",
      "unequal\n",
      "unequal\n",
      "unequal\n",
      "unequal\n",
      "unequal\n",
      "unequal\n",
      "unequal\n",
      "unequal\n",
      "unequal\n",
      "unequal\n",
      "unequal\n",
      "unequal\n",
      "unequal\n",
      "different charts\n",
      "different charts\n",
      "unequal\n",
      "unequal\n",
      "unequal\n",
      "unequal\n",
      "unequal\n",
      "unequal\n",
      "unequal\n",
      "unequal\n",
      "unequal\n",
      "unequal\n",
      "unequal\n",
      "unequal\n",
      "unequal\n",
      "unequal\n",
      "unequal\n",
      "unequal\n",
      "unequal\n",
      "unequal\n",
      "unequal\n",
      "unequal\n",
      "unequal\n",
      "unequal\n",
      "unequal\n",
      "unequal\n",
      "unequal\n",
      "unequal\n",
      "unequal\n",
      "unequal\n",
      "unequal\n",
      "unequal\n",
      "unequal\n",
      "unequal\n",
      "unequal\n",
      "unequal\n",
      "unequal\n",
      "unequal\n",
      "unequal\n",
      "unequal\n",
      "unequal\n",
      "unequal\n",
      "unequal\n",
      "unequal\n",
      "unequal\n",
      "unequal\n",
      "unequal\n",
      "unequal\n",
      "unequal\n",
      "unequal\n",
      "unequal\n",
      "unequal\n",
      "unequal\n",
      "unequal\n",
      "unequal\n",
      "unequal\n",
      "different charts\n",
      "different charts\n",
      "unequal\n",
      "unequal\n",
      "unequal\n",
      "unequal\n",
      "unequal\n",
      "unequal\n",
      "unequal\n",
      "unequal\n",
      "unequal\n",
      "unequal\n",
      "unequal\n",
      "unequal\n",
      "unequal\n",
      "unequal\n",
      "unequal\n",
      "unequal\n",
      "unequal\n",
      "unequal\n",
      "unequal\n",
      "unequal\n",
      "unequal\n",
      "unequal\n",
      "unequal\n",
      "unequal\n",
      "unequal\n",
      "unequal\n",
      "unequal\n",
      "unequal\n",
      "unequal\n",
      "unequal\n",
      "unequal\n",
      "unequal\n",
      "unequal\n",
      "unequal\n",
      "unequal\n",
      "unequal\n",
      "different charts\n",
      "different charts\n",
      "unequal\n",
      "unequal\n"
     ]
    }
   ],
   "source": [
    "scores = benetech_score(groundt_df, prediction_df)"
   ]
  },
  {
   "cell_type": "code",
   "execution_count": 71,
   "metadata": {},
   "outputs": [
    {
     "data": {
      "text/plain": [
       "0.6166933124997266"
      ]
     },
     "execution_count": 71,
     "metadata": {},
     "output_type": "execute_result"
    }
   ],
   "source": [
    "np.mean([x for x in scores if np.isfinite(x)])"
   ]
  }
 ],
 "metadata": {
  "kernelspec": {
   "display_name": "Python 3 (ipykernel)",
   "language": "python",
   "name": "python3"
  },
  "language_info": {
   "codemirror_mode": {
    "name": "ipython",
    "version": 3
   },
   "file_extension": ".py",
   "mimetype": "text/x-python",
   "name": "python",
   "nbconvert_exporter": "python",
   "pygments_lexer": "ipython3",
   "version": "3.8.10"
  }
 },
 "nbformat": 4,
 "nbformat_minor": 4
}
