{
 "cells": [
  {
   "cell_type": "code",
   "execution_count": 1,
   "id": "6a86538d",
   "metadata": {
    "papermill": {
     "duration": 0.191459,
     "end_time": "2023-05-08T10:52:01.336394",
     "exception": false,
     "start_time": "2023-05-08T10:52:01.144935",
     "status": "completed"
    },
    "tags": []
   },
   "outputs": [],
   "source": [
    "import os\n",
    "import pandas as pd\n",
    "import cv2"
   ]
  },
  {
   "cell_type": "code",
   "execution_count": 2,
   "id": "5e73d02d",
   "metadata": {
    "papermill": {
     "duration": 0.014866,
     "end_time": "2023-05-08T10:52:27.779599",
     "exception": false,
     "start_time": "2023-05-08T10:52:27.764733",
     "status": "completed"
    },
    "tags": []
   },
   "outputs": [],
   "source": [
    "os.makedirs(\"./all_data/en_train_filtered/__results___files\",exist_ok=True)"
   ]
  },
  {
   "cell_type": "code",
   "execution_count": 3,
   "id": "3ff8e9ec",
   "metadata": {
    "papermill": {
     "duration": 0.014717,
     "end_time": "2023-05-08T10:52:27.914747",
     "exception": false,
     "start_time": "2023-05-08T10:52:27.900030",
     "status": "completed"
    },
    "tags": []
   },
   "outputs": [],
   "source": [
    "os.makedirs(\"./all_data/en_val/__results___files\",exist_ok=True)"
   ]
  },
  {
   "cell_type": "code",
   "execution_count": 2,
   "id": "3d909085",
   "metadata": {
    "papermill": {
     "duration": 0.007803,
     "end_time": "2023-05-08T10:52:27.952772",
     "exception": false,
     "start_time": "2023-05-08T10:52:27.944969",
     "status": "completed"
    },
    "tags": []
   },
   "outputs": [],
   "source": [
    "import os\n",
    "import json\n",
    "from collections import Counter\n",
    "from tqdm import tqdm\n",
    "import glob"
   ]
  },
  {
   "cell_type": "code",
   "execution_count": 7,
   "id": "bbd4c566",
   "metadata": {},
   "outputs": [],
   "source": [
    "# !pip install pylatexenc\n",
    "from pylatexenc.latex2text import LatexNodes2Text\n",
    "latexconv = LatexNodes2Text()"
   ]
  },
  {
   "cell_type": "code",
   "execution_count": 8,
   "id": "a11bdad4",
   "metadata": {
    "papermill": {
     "duration": 1139.917433,
     "end_time": "2023-05-08T11:11:27.878025",
     "exception": false,
     "start_time": "2023-05-08T10:52:27.960592",
     "status": "completed"
    },
    "tags": []
   },
   "outputs": [
    {
     "name": "stdout",
     "output_type": "stream",
     "text": [
      "CPU times: user 24 µs, sys: 0 ns, total: 24 µs\n",
      "Wall time: 28.1 µs\n"
     ]
    }
   ],
   "source": [
    "%%time\n",
    "\n",
    "import os\n",
    "import json\n",
    "from collections import Counter\n",
    "from tqdm import tqdm\n",
    "def convert_to_bbox(polygon):\n",
    "    return [polygon['x0'], polygon['y0'], polygon['x1'], polygon['y1'],polygon['x2'],polygon['y2'],polygon['x3'],polygon['y3']]\n",
    "\n",
    "import hashlib\n",
    "import random\n",
    "from PIL import Image, ImageDraw\n",
    "import numpy as np\n",
    "import os\n",
    "\n",
    "def point_to_bbox(point, k=5):\n",
    "    x = point['x']\n",
    "    y = point['y'] \n",
    "    return [x, y]\n",
    "\n",
    "def point_to_bbox_tuple(x,y, k=5):\n",
    "    return [x, y]\n",
    "def get_id(texts,i):\n",
    "    for k in texts:\n",
    "        if i==k[\"id\"]:\n",
    "            return k\n",
    "def get_bounding_box(points):\n",
    "    xs = [p[0] for p in points]\n",
    "    ys = [p[1] for p in points]\n",
    "    x_min = min(xs)\n",
    "    y_min = min(ys)\n",
    "    x_max = max(xs)\n",
    "    y_max = max(ys)\n",
    "    return [x_min, y_min, x_max - x_min, y_max - y_min]\n",
    "def create_square(point, k=5):\n",
    "    if type(point)==dict:\n",
    "        x,y = point[\"x\"],point[\"y\"]\n",
    "    else:\n",
    "        x,y =point\n",
    "    half_k = k / 2.0\n",
    "\n",
    "    # Define the corners of the square\n",
    "    corners = [x - half_k, y - half_k,x + half_k, y - half_k,x + half_k, y + half_k,x - half_k, y + half_k]\n",
    "    return corners\n",
    "def polygon_to_bbox(polygon):\n",
    "    # Create list of x and y coordinates\n",
    "    x_coords = polygon[0::2]\n",
    "    y_coords = polygon[1::2]\n",
    "\n",
    "    # Compute minimum and maximum coordinates\n",
    "    x_min, x_max = min(x_coords), max(x_coords)\n",
    "    y_min, y_max = min(y_coords), max(y_coords)\n",
    "\n",
    "    # Calculate the center of the bounding box\n",
    "    x_center = (x_min + x_max) / 2.0\n",
    "    y_center = (y_min + y_max) / 2.0\n",
    "\n",
    "    # Calculate the width and height of the bounding box\n",
    "    width = x_max - x_min\n",
    "    height = y_max - y_min\n",
    "\n",
    "    # Return the bounding box in the format [x, y, width, height]\n",
    "    return [x_center, y_center, width, height]\n",
    "def get_line_bboxes(v,ctype=None):\n",
    "    texts = v[\"text\"]\n",
    "    polygon_info = []\n",
    "    point_info = []\n",
    "    for tinf in v[\"axes\"][\"x-axis\"][\"ticks\"]:\n",
    "        bbox_label = get_id(texts,tinf[\"id\"])\n",
    "        polygon_info.append(bbox_label)\n",
    "\n",
    "    for tinf in v[\"axes\"][\"y-axis\"][\"ticks\"]:\n",
    "        bbox_label = get_id(texts,tinf[\"id\"])\n",
    "        polygon_info.append(bbox_label)\n",
    "    return polygon_info\n",
    "import re\n",
    "\n",
    "def sanitize_filename(filename):\n",
    "    # This regex will match any character that is not a letter, number, space, hyphen, underscore, or dot.\n",
    "    invalid_chars_pattern = r'[\\\\/:*?\"<>|]'\n",
    "    # Replace invalid characters with an underscore.\n",
    "    sanitized_filename = re.sub(invalid_chars_pattern, '_', filename)\n",
    "    return sanitized_filename\n",
    "\n",
    "def save_cropped_patches(image_path, list_of_dicts,savepath,imno,savednames,savedtext):\n",
    "    # Open the image\n",
    "    img = Image.open(image_path)\n",
    "    im_basename = os.path.basename(image_path).split(\".\")[0]\n",
    "    # For each dict in the list\n",
    "    for d in list_of_dicts:\n",
    "        polygon = d['polygon']\n",
    "\n",
    "        # Create polygon points in the order [(x0, y0), (x1, y1), (x2, y2), (x3, y3)]\n",
    "        poly_points = [(polygon['x0'], polygon['y0']), (polygon['x1'], polygon['y1']), (polygon['x2'], polygon['y2']), (polygon['x3'], polygon['y3'])]\n",
    "\n",
    "        # Create a blank mask image\n",
    "        polygon_img = Image.new('L', (img.width, img.height), 0)\n",
    "        \n",
    "        # Draw the polygon on the mask image\n",
    "        ImageDraw.Draw(polygon_img).polygon(poly_points, outline=1, fill=1)\n",
    "\n",
    "        # Get the bounding box of the polygon\n",
    "        bbox = polygon_img.getbbox()\n",
    "\n",
    "        # Crop the bounding box directly from the original image\n",
    "        bbox_cropped_image = img.crop(bbox)\n",
    "        \n",
    "        ttxt = latexconv.latex_to_text(d['text'])\n",
    "        if len(ttxt) == 0 or any([x in im_basename for x in \"()/\"]):\n",
    "            continue\n",
    "\n",
    "        # Save the cropped bounding box with the filename convention: {dict[\"text\"]}_{randomhash}.png\n",
    "        bbox_cropped_image.convert('RGB').save(os.path.join(savepath, f\"{im_basename}_{imno}.jpg\"))\n",
    "        savednames.append(f\"{im_basename}_{imno}.jpg\")\n",
    "        savedtext.append(ttxt)\n",
    "        imno += 1\n",
    "    return imno\n",
    "\n",
    "train_image_names = []\n",
    "train_texts = []\n"
   ]
  },
  {
   "cell_type": "code",
   "execution_count": 9,
   "id": "54e1a7a2",
   "metadata": {},
   "outputs": [],
   "source": [
    "train_images = sorted(glob.glob(\"./ICPR2022_CHARTINFO_UB_PMC_TRAIN_v1.0/images/*/*\"))\n",
    "train_annots = sorted(glob.glob(\"./ICPR2022_CHARTINFO_UB_PMC_TRAIN_v1.0/annotations_JSON/*/*\"))"
   ]
  },
  {
   "cell_type": "code",
   "execution_count": 10,
   "id": "c5c1f0fb",
   "metadata": {},
   "outputs": [],
   "source": [
    "train_images1 = {}\n",
    "for x in sorted(glob.glob(\"./ICPR2022_CHARTINFO_UB_UNITEC_PMC_TEST_v2.1/chart_images/*/*/*\")):\n",
    "    train_images1[\"\".join(os.path.split(x)[-1].split(\".\")[:-1])] = x\n",
    "train_annots1 = {}\n",
    "for x in sorted(glob.glob(\"./ICPR2022_CHARTINFO_UB_UNITEC_PMC_TEST_v2.1/final_full_GT/*/*/*.json\")):\n",
    "    train_annots1[\"\".join(os.path.split(x)[-1].split(\".\")[:-1])] = x"
   ]
  },
  {
   "cell_type": "code",
   "execution_count": 11,
   "id": "8b162489",
   "metadata": {},
   "outputs": [
    {
     "name": "stderr",
     "output_type": "stream",
     "text": [
      "22923it [01:36, 236.50it/s] \n"
     ]
    }
   ],
   "source": [
    "index=0\n",
    "for imgpth,annot in tqdm(zip(train_images,train_annots)):\n",
    "    v = json.load(open(annot))\n",
    "    if v[\"task2\"] is None:\n",
    "        continue\n",
    "    polygons = v[\"task2\"][\"output\"][\"text_blocks\"]\n",
    "    index = save_cropped_patches(imgpth,polygons,\"./all_data/en_train_filtered/__results___files/\",index,train_image_names,train_texts)"
   ]
  },
  {
   "cell_type": "code",
   "execution_count": 12,
   "id": "b0cbb036",
   "metadata": {},
   "outputs": [
    {
     "name": "stderr",
     "output_type": "stream",
     "text": [
      "13259it [00:30, 429.01it/s]  \n"
     ]
    }
   ],
   "source": [
    "index=0\n",
    "for imgpth,annot in tqdm(zip(train_images1,train_annots1)):\n",
    "    v = json.load(open(train_annots1[annot]))\n",
    "    if v[\"task2\"] is None or v[\"task2\"][\"output\"] is None:\n",
    "        continue\n",
    "    polygons = v[\"task2\"][\"output\"][\"text_blocks\"]\n",
    "    index = save_cropped_patches(train_images1[annot],polygons,\"./all_data/en_train_filtered/__results___files/\",index,train_image_names,train_texts)"
   ]
  },
  {
   "cell_type": "code",
   "execution_count": 13,
   "id": "8c67e629",
   "metadata": {},
   "outputs": [],
   "source": [
    "import os\n",
    "import json\n",
    "from collections import Counter\n",
    "from tqdm import tqdm\n",
    "# define directories\n",
    "IMAGE_DIR = '../datasets/dataset/train/images'\n",
    "ANNOTATIONS_DIR = '../datasets/dataset/train/annotations'\n",
    "\n",
    "# get the list of images\n",
    "image_filenames = os.listdir(IMAGE_DIR)\n",
    "\n",
    "json_files = json.load(open(\"../datasets/dataset/data.json\"))"
   ]
  },
  {
   "cell_type": "code",
   "execution_count": 14,
   "id": "429341c2",
   "metadata": {},
   "outputs": [],
   "source": [
    "valid_files = set([x.split(\".\")[0] for x in os.listdir(\"../datasets/dataset/keypoint/labels/valid/\")])\n",
    "train_files = set([x.split(\".\")[0] for x in os.listdir(\"../datasets/dataset/keypoint/labels/train/\")])\n",
    "valid_files = {k:json_files[k] for k in json_files if k in valid_files}\n",
    "train_files = {k:json_files[k] for k in json_files if k in train_files}"
   ]
  },
  {
   "cell_type": "code",
   "execution_count": 15,
   "id": "b89dd418",
   "metadata": {},
   "outputs": [
    {
     "name": "stderr",
     "output_type": "stream",
     "text": [
      "100%|███████████████████████████████████████████████████████████████████████████████████████████████████████████████████████| 60312/60312 [09:48<00:00, 102.40it/s]\n"
     ]
    }
   ],
   "source": [
    "ROOT=\"../datasets/dataset/keypoint/images/train\"\n",
    "index=0\n",
    "for k in tqdm(train_files):\n",
    "    imgpth=os.path.join(ROOT,k+\".jpg\")\n",
    "    v = train_files[k]\n",
    "    \n",
    "    imgpth=os.path.join(ROOT,k+\".jpg\")\n",
    "    polygons = get_line_bboxes(v, v['chart-type'])\n",
    "    index = save_cropped_patches(imgpth,polygons,\"./all_data/en_train_filtered/__results___files/\",index,train_image_names,train_texts)"
   ]
  },
  {
   "cell_type": "code",
   "execution_count": 16,
   "id": "24989eff",
   "metadata": {},
   "outputs": [
    {
     "data": {
      "text/plain": [
       "(223, 60312)"
      ]
     },
     "execution_count": 16,
     "metadata": {},
     "output_type": "execute_result"
    }
   ],
   "source": [
    "len(valid_files),len(train_files)"
   ]
  },
  {
   "cell_type": "code",
   "execution_count": 17,
   "id": "9ce1f78b",
   "metadata": {},
   "outputs": [],
   "source": [
    "train_df = pd.DataFrame(list(zip(train_image_names, train_texts)),\n",
    "               columns =['filename', 'words'])\n",
    "train_df.to_csv('./all_data/en_train_filtered/labels.csv',index=False)"
   ]
  },
  {
   "cell_type": "code",
   "execution_count": 18,
   "id": "069049d8",
   "metadata": {},
   "outputs": [],
   "source": [
    "valid_image_names,valid_texts=[],[]"
   ]
  },
  {
   "cell_type": "code",
   "execution_count": 19,
   "id": "5202d145",
   "metadata": {},
   "outputs": [
    {
     "name": "stderr",
     "output_type": "stream",
     "text": [
      "100%|███████████████████████████████████████████████████████████████████████████████████████████████████████████████████████████| 223/223 [00:02<00:00, 103.89it/s]\n"
     ]
    }
   ],
   "source": [
    "ROOT=\"../datasets/dataset/keypoint/images/valid\"\n",
    "index=0\n",
    "for k in tqdm(valid_files):\n",
    "    imgpth=os.path.join(ROOT,k+\".jpg\")\n",
    "    img = cv2.imread(imgpth)\n",
    "    image = img.copy()\n",
    "    h,w,_ = img.shape\n",
    "    v = valid_files[k]\n",
    "    \n",
    "    imgpth=os.path.join(ROOT,k+\".jpg\")\n",
    "    polygons = get_line_bboxes(v, v['chart-type'])\n",
    "    index = save_cropped_patches(imgpth,polygons,\"./all_data/en_val/__results___files/\",index,valid_image_names,valid_texts)\n",
    "valid_df = pd.DataFrame(list(zip(valid_image_names, valid_texts)),\n",
    "               columns =['filename', 'words'])\n",
    "valid_df.to_csv('./all_data/en_val/labels.csv',index=False)"
   ]
  },
  {
   "cell_type": "code",
   "execution_count": 11,
   "id": "c9691ce9",
   "metadata": {
    "papermill": {
     "duration": 6.649407,
     "end_time": "2023-05-08T11:11:36.642853",
     "exception": false,
     "start_time": "2023-05-08T11:11:29.993446",
     "status": "completed"
    },
    "tags": []
   },
   "outputs": [],
   "source": [
    "# train_df = pd.read_csv(\"./all_data/en_train_filtered/__results___files/labels.csv\", sep='^([^,]+),', engine='python', usecols=['filename', 'words'], keep_default_na=False)\n",
    "# train_df = train_df[train_df.filename.apply(lambda x: \".jpg\" in x)]\n",
    "# train_df = train_df.dropna().reset_index(drop=True)\n",
    "# train_df.to_csv(\"./all_data/en_train_filtered/__results___files/labels.csv\",index=False)"
   ]
  },
  {
   "cell_type": "code",
   "execution_count": 23,
   "id": "484afb9f",
   "metadata": {},
   "outputs": [
    {
     "data": {
      "image/png": "[encoded data removed]",
      "text/plain": [
       "<Figure size 720x720 with 9 Axes>"
      ]
     },
     "metadata": {
      "needs_background": "light"
     },
     "output_type": "display_data"
    }
   ],
   "source": [
    "import os\n",
    "import random\n",
    "import matplotlib.pyplot as plt\n",
    "from PIL import Image\n",
    "\n",
    "def sample_images(folder_path, tdf,num_samples=9):\n",
    "    # Get all files in the directory\n",
    "    all_files = os.listdir(folder_path)\n",
    "\n",
    "    # Filter list for only jpg and png files\n",
    "    image_files = [file for file in all_files if file.endswith(('.jpg', '.png'))]\n",
    "\n",
    "    # Randomly sample the image files\n",
    "    sampled_files = tdf.sample(num_samples)\n",
    "\n",
    "    # Determine grid size for plotting\n",
    "    grid_size = int(num_samples**0.5)\n",
    "\n",
    "    # Create subplots\n",
    "    fig, axs = plt.subplots(grid_size, grid_size, figsize=(10,10))\n",
    "\n",
    "    for i, (file,word) in enumerate(zip(sampled_files.filename,sampled_files.words)):\n",
    "        # Open image file\n",
    "        img = Image.open(os.path.join(folder_path, file.replace(\".png\",\".jpg\")))\n",
    "        \n",
    "        # Add to subplot\n",
    "        axs[i//grid_size, i%grid_size].imshow(img)\n",
    "        axs[i//grid_size, i%grid_size].axis('off')\n",
    "        axs[i//grid_size, i%grid_size].set_title(word)\n",
    "\n",
    "    # Remove empty subplots\n",
    "    if num_samples < grid_size**2:\n",
    "        for i in range(num_samples, grid_size**2):\n",
    "            fig.delaxes(axs.flatten()[i])\n",
    "            \n",
    "    # Display the plot\n",
    "    plt.show()\n",
    "\n",
    "# call the function\n",
    "sample_images('./all_data/en_train_filtered/__results___files',train_df)"
   ]
  },
  {
   "cell_type": "code",
   "execution_count": null,
   "id": "e51c9026",
   "metadata": {},
   "outputs": [],
   "source": []
  }
 ],
 "metadata": {
  "kernelspec": {
   "display_name": "Python 3 (ipykernel)",
   "language": "python",
   "name": "python3"
  },
  "language_info": {
   "codemirror_mode": {
    "name": "ipython",
    "version": 3
   },
   "file_extension": ".py",
   "mimetype": "text/x-python",
   "name": "python",
   "nbconvert_exporter": "python",
   "pygments_lexer": "ipython3",
   "version": "3.7.10"
  },
  "papermill": {
   "default_parameters": {},
   "duration": 4876.035627,
   "end_time": "2023-05-08T12:13:07.856916",
   "environment_variables": {},
   "exception": null,
   "input_path": "__notebook__.ipynb",
   "output_path": "__notebook__.ipynb",
   "parameters": {},
   "start_time": "2023-05-08T10:51:51.821289",
   "version": "2.4.0"
  }
 },
 "nbformat": 4,
 "nbformat_minor": 5
}
